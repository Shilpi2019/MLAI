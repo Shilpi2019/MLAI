{
 "cells": [
  {
   "cell_type": "markdown",
   "metadata": {
    "_uuid": "1a078f8566275478b3a5048236d2623ed0602be9"
   },
   "source": [
    "# Content Based Recommender System"
   ]
  },
  {
   "cell_type": "code",
   "execution_count": 6,
   "metadata": {
    "_uuid": "cde2f394677d459f5ab98ebb51ca39d3447d97bc"
   },
   "outputs": [],
   "source": [
    "import numpy as np\n",
    "import pandas as pd\n",
    "import matplotlib.pyplot as plt\n",
    "from sklearn.metrics.pairwise import cosine_similarity\n",
    "%matplotlib inline"
   ]
  },
  {
   "cell_type": "markdown",
   "metadata": {
    "_uuid": "dc8464eeada8d50be110e7d7af787e496cef4706"
   },
   "source": [
    "# Read the data"
   ]
  },
  {
   "cell_type": "code",
   "execution_count": 7,
   "metadata": {
    "_uuid": "f14357bb8a863160ff3fa7345313f4fac361b63e"
   },
   "outputs": [
    {
     "data": {
      "text/html": [
       "<div>\n",
       "<style scoped>\n",
       "    .dataframe tbody tr th:only-of-type {\n",
       "        vertical-align: middle;\n",
       "    }\n",
       "\n",
       "    .dataframe tbody tr th {\n",
       "        vertical-align: top;\n",
       "    }\n",
       "\n",
       "    .dataframe thead th {\n",
       "        text-align: right;\n",
       "    }\n",
       "</style>\n",
       "<table border=\"1\" class=\"dataframe\">\n",
       "  <thead>\n",
       "    <tr style=\"text-align: right;\">\n",
       "      <th></th>\n",
       "      <th>anime_id</th>\n",
       "      <th>name</th>\n",
       "      <th>genre</th>\n",
       "      <th>type</th>\n",
       "      <th>episodes</th>\n",
       "      <th>rating</th>\n",
       "      <th>members</th>\n",
       "    </tr>\n",
       "  </thead>\n",
       "  <tbody>\n",
       "    <tr>\n",
       "      <th>0</th>\n",
       "      <td>32281</td>\n",
       "      <td>Kimi no Na wa.</td>\n",
       "      <td>Drama, Romance, School, Supernatural</td>\n",
       "      <td>Movie</td>\n",
       "      <td>1</td>\n",
       "      <td>9.37</td>\n",
       "      <td>200630</td>\n",
       "    </tr>\n",
       "    <tr>\n",
       "      <th>1</th>\n",
       "      <td>5114</td>\n",
       "      <td>Fullmetal Alchemist: Brotherhood</td>\n",
       "      <td>Action, Adventure, Drama, Fantasy, Magic, Mili...</td>\n",
       "      <td>TV</td>\n",
       "      <td>64</td>\n",
       "      <td>9.26</td>\n",
       "      <td>793665</td>\n",
       "    </tr>\n",
       "    <tr>\n",
       "      <th>2</th>\n",
       "      <td>28977</td>\n",
       "      <td>Gintama°</td>\n",
       "      <td>Action, Comedy, Historical, Parody, Samurai, S...</td>\n",
       "      <td>TV</td>\n",
       "      <td>51</td>\n",
       "      <td>9.25</td>\n",
       "      <td>114262</td>\n",
       "    </tr>\n",
       "    <tr>\n",
       "      <th>3</th>\n",
       "      <td>9253</td>\n",
       "      <td>Steins;Gate</td>\n",
       "      <td>Sci-Fi, Thriller</td>\n",
       "      <td>TV</td>\n",
       "      <td>24</td>\n",
       "      <td>9.17</td>\n",
       "      <td>673572</td>\n",
       "    </tr>\n",
       "    <tr>\n",
       "      <th>4</th>\n",
       "      <td>9969</td>\n",
       "      <td>Gintama&amp;#039;</td>\n",
       "      <td>Action, Comedy, Historical, Parody, Samurai, S...</td>\n",
       "      <td>TV</td>\n",
       "      <td>51</td>\n",
       "      <td>9.16</td>\n",
       "      <td>151266</td>\n",
       "    </tr>\n",
       "  </tbody>\n",
       "</table>\n",
       "</div>"
      ],
      "text/plain": [
       "   anime_id                              name  \\\n",
       "0     32281                    Kimi no Na wa.   \n",
       "1      5114  Fullmetal Alchemist: Brotherhood   \n",
       "2     28977                          Gintama°   \n",
       "3      9253                       Steins;Gate   \n",
       "4      9969                     Gintama&#039;   \n",
       "\n",
       "                                               genre   type episodes  rating  \\\n",
       "0               Drama, Romance, School, Supernatural  Movie        1    9.37   \n",
       "1  Action, Adventure, Drama, Fantasy, Magic, Mili...     TV       64    9.26   \n",
       "2  Action, Comedy, Historical, Parody, Samurai, S...     TV       51    9.25   \n",
       "3                                   Sci-Fi, Thriller     TV       24    9.17   \n",
       "4  Action, Comedy, Historical, Parody, Samurai, S...     TV       51    9.16   \n",
       "\n",
       "   members  \n",
       "0   200630  \n",
       "1   793665  \n",
       "2   114262  \n",
       "3   673572  \n",
       "4   151266  "
      ]
     },
     "execution_count": 7,
     "metadata": {},
     "output_type": "execute_result"
    }
   ],
   "source": [
    "df = pd.read_csv(\"anime.csv\")\n",
    "df.head()"
   ]
  },
  {
   "cell_type": "code",
   "execution_count": 5,
   "metadata": {
    "_uuid": "c100d70330a6a3c7934d664bbf3256b1fe7c0ab0"
   },
   "outputs": [
    {
     "data": {
      "text/plain": [
       "(12294, 7)"
      ]
     },
     "execution_count": 5,
     "metadata": {},
     "output_type": "execute_result"
    }
   ],
   "source": [
    "df.shape"
   ]
  },
  {
   "cell_type": "code",
   "execution_count": 5,
   "metadata": {
    "_uuid": "80ef6b3171634b7febcdf77a7d9cb89e13e5b32d"
   },
   "outputs": [
    {
     "data": {
      "text/plain": [
       "anime_id      0\n",
       "name          0\n",
       "genre        62\n",
       "type         25\n",
       "episodes      0\n",
       "rating      230\n",
       "members       0\n",
       "dtype: int64"
      ]
     },
     "execution_count": 5,
     "metadata": {},
     "output_type": "execute_result"
    }
   ],
   "source": [
    "df.isnull().sum()"
   ]
  },
  {
   "cell_type": "markdown",
   "metadata": {
    "_uuid": "62a952037b1e8f908508c0294821c1bf68733a3c"
   },
   "source": [
    "We only want to build recommender based on the genre and the type, so let's focus only to those feature."
   ]
  },
  {
   "cell_type": "markdown",
   "metadata": {
    "_uuid": "2bfc65199d446448bcd9265c2b274a60f3ce3fd5"
   },
   "source": [
    "# Handling Missing Value"
   ]
  },
  {
   "cell_type": "markdown",
   "metadata": {
    "_uuid": "e84efee2a1a76ec46144fdc4bdedf7ac7781bbdd"
   },
   "source": [
    "## Handling missing rating"
   ]
  },
  {
   "cell_type": "code",
   "execution_count": 6,
   "metadata": {
    "_uuid": "3c674417aa5bde6dc2e9f39c7ac792cf68656fbe"
   },
   "outputs": [
    {
     "data": {
      "text/plain": [
       "False"
      ]
     },
     "execution_count": 6,
     "metadata": {},
     "output_type": "execute_result"
    }
   ],
   "source": [
    "df.loc[df['rating'].isnull(), 'rating'] = 0.0\n",
    "df['rating'].isnull().any()"
   ]
  },
  {
   "cell_type": "markdown",
   "metadata": {
    "_uuid": "6c18cab0f8f809fc0423387d0fd5d701ff474f32"
   },
   "source": [
    "## Handling missing type"
   ]
  },
  {
   "cell_type": "code",
   "execution_count": 8,
   "metadata": {
    "_uuid": "7fb511b59d5ef52429ffc298c80bb0d21951564d"
   },
   "outputs": [
    {
     "data": {
      "text/plain": [
       "<matplotlib.axes._subplots.AxesSubplot at 0x3d87f3b888>"
      ]
     },
     "execution_count": 8,
     "metadata": {},
     "output_type": "execute_result"
    },
    {
     "data": {
      "image/png": "[encoded data removed]",
      "text/plain": [
       "<Figure size 432x288 with 1 Axes>"
      ]
     },
     "metadata": {
      "needs_background": "light"
     },
     "output_type": "display_data"
    }
   ],
   "source": [
    "df['type'].value_counts().plot(kind='bar')"
   ]
  },
  {
   "cell_type": "markdown",
   "metadata": {
    "_uuid": "391f8a2c6e0d9d6a26c5fa05bcc2960dfed50f3a"
   },
   "source": [
    "My approach is to fill the missing type based on the number of the episodes. But after checking the data, some of the anime have 'unknown' episodes and missing type."
   ]
  },
  {
   "cell_type": "code",
   "execution_count": 9,
   "metadata": {
    "_uuid": "9b9d879d9c0db8593ce8d4c0e6fe16071665d10d"
   },
   "outputs": [
    {
     "data": {
      "text/html": [
       "<div>\n",
       "<style scoped>\n",
       "    .dataframe tbody tr th:only-of-type {\n",
       "        vertical-align: middle;\n",
       "    }\n",
       "\n",
       "    .dataframe tbody tr th {\n",
       "        vertical-align: top;\n",
       "    }\n",
       "\n",
       "    .dataframe thead th {\n",
       "        text-align: right;\n",
       "    }\n",
       "</style>\n",
       "<table border=\"1\" class=\"dataframe\">\n",
       "  <thead>\n",
       "    <tr style=\"text-align: right;\">\n",
       "      <th></th>\n",
       "      <th>anime_id</th>\n",
       "      <th>name</th>\n",
       "      <th>genre</th>\n",
       "      <th>type</th>\n",
       "      <th>episodes</th>\n",
       "      <th>rating</th>\n",
       "      <th>members</th>\n",
       "    </tr>\n",
       "  </thead>\n",
       "  <tbody>\n",
       "    <tr>\n",
       "      <td>10898</td>\n",
       "      <td>30484</td>\n",
       "      <td>Steins;Gate 0</td>\n",
       "      <td>Sci-Fi, Thriller</td>\n",
       "      <td>NaN</td>\n",
       "      <td>Unknown</td>\n",
       "      <td>0.0</td>\n",
       "      <td>60999</td>\n",
       "    </tr>\n",
       "    <tr>\n",
       "      <td>10900</td>\n",
       "      <td>34437</td>\n",
       "      <td>Code Geass: Fukkatsu no Lelouch</td>\n",
       "      <td>Action, Drama, Mecha, Military, Sci-Fi, Super ...</td>\n",
       "      <td>NaN</td>\n",
       "      <td>Unknown</td>\n",
       "      <td>0.0</td>\n",
       "      <td>22748</td>\n",
       "    </tr>\n",
       "    <tr>\n",
       "      <td>10906</td>\n",
       "      <td>33352</td>\n",
       "      <td>Violet Evergarden</td>\n",
       "      <td>Drama, Fantasy</td>\n",
       "      <td>NaN</td>\n",
       "      <td>Unknown</td>\n",
       "      <td>0.0</td>\n",
       "      <td>20564</td>\n",
       "    </tr>\n",
       "    <tr>\n",
       "      <td>10907</td>\n",
       "      <td>33248</td>\n",
       "      <td>K: Seven Stories</td>\n",
       "      <td>Action, Drama, Super Power, Supernatural</td>\n",
       "      <td>NaN</td>\n",
       "      <td>Unknown</td>\n",
       "      <td>0.0</td>\n",
       "      <td>22133</td>\n",
       "    </tr>\n",
       "    <tr>\n",
       "      <td>10918</td>\n",
       "      <td>33845</td>\n",
       "      <td>Free! (Shinsaku)</td>\n",
       "      <td>School, Sports</td>\n",
       "      <td>NaN</td>\n",
       "      <td>Unknown</td>\n",
       "      <td>0.0</td>\n",
       "      <td>8666</td>\n",
       "    </tr>\n",
       "  </tbody>\n",
       "</table>\n",
       "</div>"
      ],
      "text/plain": [
       "       anime_id                             name  \\\n",
       "10898     30484                    Steins;Gate 0   \n",
       "10900     34437  Code Geass: Fukkatsu no Lelouch   \n",
       "10906     33352                Violet Evergarden   \n",
       "10907     33248                 K: Seven Stories   \n",
       "10918     33845                 Free! (Shinsaku)   \n",
       "\n",
       "                                                   genre type episodes  \\\n",
       "10898                                   Sci-Fi, Thriller  NaN  Unknown   \n",
       "10900  Action, Drama, Mecha, Military, Sci-Fi, Super ...  NaN  Unknown   \n",
       "10906                                     Drama, Fantasy  NaN  Unknown   \n",
       "10907           Action, Drama, Super Power, Supernatural  NaN  Unknown   \n",
       "10918                                     School, Sports  NaN  Unknown   \n",
       "\n",
       "       rating  members  \n",
       "10898     0.0    60999  \n",
       "10900     0.0    22748  \n",
       "10906     0.0    20564  \n",
       "10907     0.0    22133  \n",
       "10918     0.0     8666  "
      ]
     },
     "execution_count": 9,
     "metadata": {},
     "output_type": "execute_result"
    }
   ],
   "source": [
    "df.loc[(df['episodes']==\"Unknown\") & (df['type'].isnull())].head()"
   ]
  },
  {
   "cell_type": "code",
   "execution_count": 8,
   "metadata": {
    "_uuid": "43cafe719e21361367405795199a049037110243"
   },
   "outputs": [
    {
     "data": {
      "text/plain": [
       "(25, 7)"
      ]
     },
     "execution_count": 8,
     "metadata": {},
     "output_type": "execute_result"
    }
   ],
   "source": [
    "missing = df.loc[(df['episodes']==\"Unknown\") & (df['type'].isnull())].copy()\n",
    "missing.shape"
   ]
  },
  {
   "cell_type": "markdown",
   "metadata": {
    "_uuid": "97568c2d37dba2236ce93bd0e68d06dad3e47a9a"
   },
   "source": [
    "It seems the data is not up to date with the current season. There is no other way, We have to manually fill the type and the episodes."
   ]
  },
  {
   "cell_type": "code",
   "execution_count": 11,
   "metadata": {
    "_uuid": "72b3576642c11c64f65381493ddc5bbc32ea13fc"
   },
   "outputs": [
    {
     "data": {
      "text/html": [
       "<div>\n",
       "<style scoped>\n",
       "    .dataframe tbody tr th:only-of-type {\n",
       "        vertical-align: middle;\n",
       "    }\n",
       "\n",
       "    .dataframe tbody tr th {\n",
       "        vertical-align: top;\n",
       "    }\n",
       "\n",
       "    .dataframe thead th {\n",
       "        text-align: right;\n",
       "    }\n",
       "</style>\n",
       "<table border=\"1\" class=\"dataframe\">\n",
       "  <thead>\n",
       "    <tr style=\"text-align: right;\">\n",
       "      <th></th>\n",
       "      <th>anime_id</th>\n",
       "      <th>name</th>\n",
       "      <th>genre</th>\n",
       "      <th>type</th>\n",
       "      <th>episodes</th>\n",
       "      <th>rating</th>\n",
       "      <th>members</th>\n",
       "    </tr>\n",
       "  </thead>\n",
       "  <tbody>\n",
       "    <tr>\n",
       "      <td>10898</td>\n",
       "      <td>30484</td>\n",
       "      <td>Steins;Gate 0</td>\n",
       "      <td>Sci-Fi, Thriller</td>\n",
       "      <td>NaN</td>\n",
       "      <td>Unknown</td>\n",
       "      <td>0.0</td>\n",
       "      <td>60999</td>\n",
       "    </tr>\n",
       "    <tr>\n",
       "      <td>10900</td>\n",
       "      <td>34437</td>\n",
       "      <td>Code Geass: Fukkatsu no Lelouch</td>\n",
       "      <td>Action, Drama, Mecha, Military, Sci-Fi, Super ...</td>\n",
       "      <td>NaN</td>\n",
       "      <td>Unknown</td>\n",
       "      <td>0.0</td>\n",
       "      <td>22748</td>\n",
       "    </tr>\n",
       "    <tr>\n",
       "      <td>10906</td>\n",
       "      <td>33352</td>\n",
       "      <td>Violet Evergarden</td>\n",
       "      <td>Drama, Fantasy</td>\n",
       "      <td>NaN</td>\n",
       "      <td>Unknown</td>\n",
       "      <td>0.0</td>\n",
       "      <td>20564</td>\n",
       "    </tr>\n",
       "    <tr>\n",
       "      <td>10907</td>\n",
       "      <td>33248</td>\n",
       "      <td>K: Seven Stories</td>\n",
       "      <td>Action, Drama, Super Power, Supernatural</td>\n",
       "      <td>NaN</td>\n",
       "      <td>Unknown</td>\n",
       "      <td>0.0</td>\n",
       "      <td>22133</td>\n",
       "    </tr>\n",
       "    <tr>\n",
       "      <td>10918</td>\n",
       "      <td>33845</td>\n",
       "      <td>Free! (Shinsaku)</td>\n",
       "      <td>School, Sports</td>\n",
       "      <td>NaN</td>\n",
       "      <td>Unknown</td>\n",
       "      <td>0.0</td>\n",
       "      <td>8666</td>\n",
       "    </tr>\n",
       "    <tr>\n",
       "      <td>10949</td>\n",
       "      <td>33475</td>\n",
       "      <td>Busou Shoujo Machiavellianism</td>\n",
       "      <td>Action, School, Shounen</td>\n",
       "      <td>NaN</td>\n",
       "      <td>Unknown</td>\n",
       "      <td>0.0</td>\n",
       "      <td>1896</td>\n",
       "    </tr>\n",
       "    <tr>\n",
       "      <td>10963</td>\n",
       "      <td>31456</td>\n",
       "      <td>Code:Realize: Sousei no Himegimi</td>\n",
       "      <td>Adventure, Fantasy, Romance, Shoujo</td>\n",
       "      <td>NaN</td>\n",
       "      <td>Unknown</td>\n",
       "      <td>0.0</td>\n",
       "      <td>4017</td>\n",
       "    </tr>\n",
       "    <tr>\n",
       "      <td>10983</td>\n",
       "      <td>34332</td>\n",
       "      <td>Flying Babies</td>\n",
       "      <td>NaN</td>\n",
       "      <td>NaN</td>\n",
       "      <td>Unknown</td>\n",
       "      <td>0.0</td>\n",
       "      <td>22</td>\n",
       "    </tr>\n",
       "    <tr>\n",
       "      <td>10988</td>\n",
       "      <td>34280</td>\n",
       "      <td>Gamers!</td>\n",
       "      <td>Comedy, Romance, School</td>\n",
       "      <td>NaN</td>\n",
       "      <td>Unknown</td>\n",
       "      <td>0.0</td>\n",
       "      <td>1045</td>\n",
       "    </tr>\n",
       "    <tr>\n",
       "      <td>10990</td>\n",
       "      <td>34485</td>\n",
       "      <td>Ganko-chan</td>\n",
       "      <td>NaN</td>\n",
       "      <td>NaN</td>\n",
       "      <td>Unknown</td>\n",
       "      <td>0.0</td>\n",
       "      <td>11</td>\n",
       "    </tr>\n",
       "    <tr>\n",
       "      <td>10991</td>\n",
       "      <td>32455</td>\n",
       "      <td>Gekidol</td>\n",
       "      <td>Music</td>\n",
       "      <td>NaN</td>\n",
       "      <td>Unknown</td>\n",
       "      <td>0.0</td>\n",
       "      <td>586</td>\n",
       "    </tr>\n",
       "    <tr>\n",
       "      <td>10994</td>\n",
       "      <td>31433</td>\n",
       "      <td>Ginga Eiyuu Densetsu (2017)</td>\n",
       "      <td>Action, Drama, Military, Sci-Fi, Space</td>\n",
       "      <td>NaN</td>\n",
       "      <td>Unknown</td>\n",
       "      <td>0.0</td>\n",
       "      <td>3969</td>\n",
       "    </tr>\n",
       "    <tr>\n",
       "      <td>10995</td>\n",
       "      <td>28613</td>\n",
       "      <td>Ginga Jinpuu Jinraiger</td>\n",
       "      <td>Action, Adventure, Mecha</td>\n",
       "      <td>NaN</td>\n",
       "      <td>Unknown</td>\n",
       "      <td>0.0</td>\n",
       "      <td>627</td>\n",
       "    </tr>\n",
       "    <tr>\n",
       "      <td>10998</td>\n",
       "      <td>34279</td>\n",
       "      <td>Grancrest Senki</td>\n",
       "      <td>Action, Fantasy</td>\n",
       "      <td>NaN</td>\n",
       "      <td>Unknown</td>\n",
       "      <td>0.0</td>\n",
       "      <td>360</td>\n",
       "    </tr>\n",
       "    <tr>\n",
       "      <td>11010</td>\n",
       "      <td>33899</td>\n",
       "      <td>IDOLiSH7</td>\n",
       "      <td>Music, Shoujo</td>\n",
       "      <td>NaN</td>\n",
       "      <td>Unknown</td>\n",
       "      <td>0.0</td>\n",
       "      <td>1048</td>\n",
       "    </tr>\n",
       "    <tr>\n",
       "      <td>11013</td>\n",
       "      <td>34012</td>\n",
       "      <td>Isekai Shokudou</td>\n",
       "      <td>Comedy, Fantasy, Mystery</td>\n",
       "      <td>NaN</td>\n",
       "      <td>Unknown</td>\n",
       "      <td>0.0</td>\n",
       "      <td>749</td>\n",
       "    </tr>\n",
       "    <tr>\n",
       "      <td>11041</td>\n",
       "      <td>30448</td>\n",
       "      <td>Mirai Arise</td>\n",
       "      <td>Sci-Fi</td>\n",
       "      <td>NaN</td>\n",
       "      <td>Unknown</td>\n",
       "      <td>0.0</td>\n",
       "      <td>4044</td>\n",
       "    </tr>\n",
       "    <tr>\n",
       "      <td>11053</td>\n",
       "      <td>34262</td>\n",
       "      <td>Oushitsu Kyoushi Haine</td>\n",
       "      <td>Comedy, Historical, Shounen</td>\n",
       "      <td>NaN</td>\n",
       "      <td>Unknown</td>\n",
       "      <td>0.0</td>\n",
       "      <td>321</td>\n",
       "    </tr>\n",
       "    <tr>\n",
       "      <td>11055</td>\n",
       "      <td>33185</td>\n",
       "      <td>Peace Maker Kurogane (Shinsaku)</td>\n",
       "      <td>Action, Comedy, Historical, Samurai, Shounen</td>\n",
       "      <td>NaN</td>\n",
       "      <td>Unknown</td>\n",
       "      <td>0.0</td>\n",
       "      <td>939</td>\n",
       "    </tr>\n",
       "    <tr>\n",
       "      <td>11058</td>\n",
       "      <td>24023</td>\n",
       "      <td>Project758</td>\n",
       "      <td>Drama</td>\n",
       "      <td>NaN</td>\n",
       "      <td>Unknown</td>\n",
       "      <td>0.0</td>\n",
       "      <td>455</td>\n",
       "    </tr>\n",
       "    <tr>\n",
       "      <td>11062</td>\n",
       "      <td>34348</td>\n",
       "      <td>Rescue Academia</td>\n",
       "      <td>Drama</td>\n",
       "      <td>NaN</td>\n",
       "      <td>Unknown</td>\n",
       "      <td>0.0</td>\n",
       "      <td>65</td>\n",
       "    </tr>\n",
       "    <tr>\n",
       "      <td>11070</td>\n",
       "      <td>32032</td>\n",
       "      <td>Seikaisuru Kado</td>\n",
       "      <td>NaN</td>\n",
       "      <td>NaN</td>\n",
       "      <td>Unknown</td>\n",
       "      <td>0.0</td>\n",
       "      <td>1797</td>\n",
       "    </tr>\n",
       "    <tr>\n",
       "      <td>11101</td>\n",
       "      <td>33478</td>\n",
       "      <td>UQ Holder!</td>\n",
       "      <td>Action, Fantasy, Magic, Sci-Fi, Shounen</td>\n",
       "      <td>NaN</td>\n",
       "      <td>Unknown</td>\n",
       "      <td>0.0</td>\n",
       "      <td>2341</td>\n",
       "    </tr>\n",
       "    <tr>\n",
       "      <td>12252</td>\n",
       "      <td>34382</td>\n",
       "      <td>Citrus</td>\n",
       "      <td>Drama, Romance, School, Yuri</td>\n",
       "      <td>NaN</td>\n",
       "      <td>Unknown</td>\n",
       "      <td>0.0</td>\n",
       "      <td>2459</td>\n",
       "    </tr>\n",
       "    <tr>\n",
       "      <td>12259</td>\n",
       "      <td>33654</td>\n",
       "      <td>Hitorijime My Hero</td>\n",
       "      <td>Yaoi</td>\n",
       "      <td>NaN</td>\n",
       "      <td>Unknown</td>\n",
       "      <td>0.0</td>\n",
       "      <td>1574</td>\n",
       "    </tr>\n",
       "  </tbody>\n",
       "</table>\n",
       "</div>"
      ],
      "text/plain": [
       "       anime_id                              name  \\\n",
       "10898     30484                     Steins;Gate 0   \n",
       "10900     34437   Code Geass: Fukkatsu no Lelouch   \n",
       "10906     33352                 Violet Evergarden   \n",
       "10907     33248                  K: Seven Stories   \n",
       "10918     33845                  Free! (Shinsaku)   \n",
       "10949     33475     Busou Shoujo Machiavellianism   \n",
       "10963     31456  Code:Realize: Sousei no Himegimi   \n",
       "10983     34332                     Flying Babies   \n",
       "10988     34280                           Gamers!   \n",
       "10990     34485                        Ganko-chan   \n",
       "10991     32455                           Gekidol   \n",
       "10994     31433       Ginga Eiyuu Densetsu (2017)   \n",
       "10995     28613            Ginga Jinpuu Jinraiger   \n",
       "10998     34279                   Grancrest Senki   \n",
       "11010     33899                          IDOLiSH7   \n",
       "11013     34012                   Isekai Shokudou   \n",
       "11041     30448                       Mirai Arise   \n",
       "11053     34262            Oushitsu Kyoushi Haine   \n",
       "11055     33185   Peace Maker Kurogane (Shinsaku)   \n",
       "11058     24023                        Project758   \n",
       "11062     34348                   Rescue Academia   \n",
       "11070     32032                   Seikaisuru Kado   \n",
       "11101     33478                        UQ Holder!   \n",
       "12252     34382                            Citrus   \n",
       "12259     33654                Hitorijime My Hero   \n",
       "\n",
       "                                                   genre type episodes  \\\n",
       "10898                                   Sci-Fi, Thriller  NaN  Unknown   \n",
       "10900  Action, Drama, Mecha, Military, Sci-Fi, Super ...  NaN  Unknown   \n",
       "10906                                     Drama, Fantasy  NaN  Unknown   \n",
       "10907           Action, Drama, Super Power, Supernatural  NaN  Unknown   \n",
       "10918                                     School, Sports  NaN  Unknown   \n",
       "10949                            Action, School, Shounen  NaN  Unknown   \n",
       "10963                Adventure, Fantasy, Romance, Shoujo  NaN  Unknown   \n",
       "10983                                                NaN  NaN  Unknown   \n",
       "10988                            Comedy, Romance, School  NaN  Unknown   \n",
       "10990                                                NaN  NaN  Unknown   \n",
       "10991                                              Music  NaN  Unknown   \n",
       "10994             Action, Drama, Military, Sci-Fi, Space  NaN  Unknown   \n",
       "10995                           Action, Adventure, Mecha  NaN  Unknown   \n",
       "10998                                    Action, Fantasy  NaN  Unknown   \n",
       "11010                                      Music, Shoujo  NaN  Unknown   \n",
       "11013                           Comedy, Fantasy, Mystery  NaN  Unknown   \n",
       "11041                                             Sci-Fi  NaN  Unknown   \n",
       "11053                        Comedy, Historical, Shounen  NaN  Unknown   \n",
       "11055       Action, Comedy, Historical, Samurai, Shounen  NaN  Unknown   \n",
       "11058                                              Drama  NaN  Unknown   \n",
       "11062                                              Drama  NaN  Unknown   \n",
       "11070                                                NaN  NaN  Unknown   \n",
       "11101            Action, Fantasy, Magic, Sci-Fi, Shounen  NaN  Unknown   \n",
       "12252                       Drama, Romance, School, Yuri  NaN  Unknown   \n",
       "12259                                               Yaoi  NaN  Unknown   \n",
       "\n",
       "       rating  members  \n",
       "10898     0.0    60999  \n",
       "10900     0.0    22748  \n",
       "10906     0.0    20564  \n",
       "10907     0.0    22133  \n",
       "10918     0.0     8666  \n",
       "10949     0.0     1896  \n",
       "10963     0.0     4017  \n",
       "10983     0.0       22  \n",
       "10988     0.0     1045  \n",
       "10990     0.0       11  \n",
       "10991     0.0      586  \n",
       "10994     0.0     3969  \n",
       "10995     0.0      627  \n",
       "10998     0.0      360  \n",
       "11010     0.0     1048  \n",
       "11013     0.0      749  \n",
       "11041     0.0     4044  \n",
       "11053     0.0      321  \n",
       "11055     0.0      939  \n",
       "11058     0.0      455  \n",
       "11062     0.0       65  \n",
       "11070     0.0     1797  \n",
       "11101     0.0     2341  \n",
       "12252     0.0     2459  \n",
       "12259     0.0     1574  "
      ]
     },
     "execution_count": 11,
     "metadata": {},
     "output_type": "execute_result"
    }
   ],
   "source": [
    "missing.head(25)"
   ]
  },
  {
   "cell_type": "code",
   "execution_count": 12,
   "metadata": {
    "_uuid": "fbe07eca81e4a7ce235f473a35dc8efd9cbd9cc5"
   },
   "outputs": [
    {
     "data": {
      "text/plain": [
       "anime_id     0\n",
       "name         0\n",
       "genre       62\n",
       "type         6\n",
       "episodes     0\n",
       "rating       0\n",
       "members      0\n",
       "dtype: int64"
      ]
     },
     "execution_count": 12,
     "metadata": {},
     "output_type": "execute_result"
    }
   ],
   "source": [
    "df.loc[(df['name'] == \"Steins;Gate 0\"), 'type'] = 'TV'\n",
    "df.loc[(df['name'] == \"Steins;Gate 0\"), 'episodes'] = '23'\n",
    "df.loc[(df['name'] == \"Violet Evergarden\"), 'type'] = 'TV'\n",
    "df.loc[(df['name'] == \"Violet Evergarden\"), 'episodes'] = '13'\n",
    "df.loc[(df['name'] == \"Code Geass: Fukkatsu no Lelouch\"), 'type'] = 'TV'\n",
    "df.loc[(df['name'] == \"Code Geass: Fukkatsu no Lelouch\"), 'episodes'] = '25'\n",
    "df.loc[(df['name'] == \"K: Seven Stories\"), 'type'] = 'Movie'\n",
    "df.loc[(df['name'] == \"K: Seven Stories\"), 'episodes'] = '6'\n",
    "df.loc[(df['name'] == \"Free! (Shinsaku)\"), 'type'] = 'TV'\n",
    "df.loc[(df['name'] == \"Free! (Shinsaku)\"), 'episodes'] = '12'\n",
    "df.loc[(df['name'] == \"Busou Shoujo Machiavellianism\"), 'type'] = 'TV'\n",
    "df.loc[(df['name'] == \"Busou Shoujo Machiavellianism\"), 'episodes'] = '12'\n",
    "df.loc[(df['name'] == \"Code:Realize: Sousei no Himegimi\"), 'type'] = 'TV'\n",
    "df.loc[(df['name'] == \"Code:Realize: Sousei no Himegimi\"), 'episodes'] = '12'\n",
    "df.loc[(df['name'] == \"Gamers!\"), 'type'] = 'TV'\n",
    "df.loc[(df['name'] == \"Gamers!\"), 'episodes'] = '12'\n",
    "df.loc[(df['name'] == \"Ganko-chan\"), 'type'] = 'TV'\n",
    "df.loc[(df['name'] == \"Ganko-chan\"), 'episodes'] = '10'\n",
    "df.loc[(df['name'] == \"Ginga Eiyuu Densetsu (2017)\"), 'type'] = 'OVA'\n",
    "df.loc[(df['name'] == \"Ginga Eiyuu Densetsu (2017)\"), 'episodes'] = '110'\n",
    "df.loc[(df['name'] == \"Grancrest Senki\"), 'type'] = 'TV'\n",
    "df.loc[(df['name'] == \"Grancrest Senki\"), 'episodes'] = '24'\n",
    "df.loc[(df['name'] == \"IDOLiSH7\"), 'type'] = 'TV'\n",
    "df.loc[(df['name'] == \"IDOLiSH7\"), 'episodes'] = '17'\n",
    "df.loc[(df['name'] == \"Isekai Shokudou\"), 'type'] = 'TV'\n",
    "df.loc[(df['name'] == \"Isekai Shokudou\"), 'episodes'] = '12'\n",
    "df.loc[(df['name'] == \"Oushitsu Kyoushi Haine\"), 'type'] = 'TV'\n",
    "df.loc[(df['name'] == \"Oushitsu Kyoushi Haine\"), 'episodes'] = '12'\n",
    "df.loc[(df['name'] == \"Peace Maker Kurogane (Shinsaku)\"), 'type'] = 'TV'\n",
    "df.loc[(df['name'] == \"Peace Maker Kurogane (Shinsaku)\"), 'episodes'] = '24'\n",
    "df.loc[(df['name'] == \"Seikaisuru Kado\"), 'type'] = 'TV'\n",
    "df.loc[(df['name'] == \"Seikaisuru Kado\"), 'episodes'] = '12'\n",
    "df.loc[(df['name'] == \"UQ Holder!\"), 'type'] = 'TV'\n",
    "df.loc[(df['name'] == \"UQ Holder!\"), 'episodes'] = '12'\n",
    "df.loc[(df['name'] == \"Citrus\"), 'type'] = 'TV'\n",
    "df.loc[(df['name'] == \"Citrus\"), 'episodes'] = '12'\n",
    "df.loc[(df['name'] == \"Hitorijime My Hero\"), 'type'] = 'TV'\n",
    "df.loc[(df['name'] == \"Hitorijime My Hero\"), 'episodes'] = '12'\n",
    "df.isnull().sum()"
   ]
  },
  {
   "cell_type": "markdown",
   "metadata": {
    "_uuid": "9c9712d1157db6c0acaa3a06da54dceb0360857a"
   },
   "source": [
    "There still some unknown 'type', because it has not yet aired. I will drop those anime."
   ]
  },
  {
   "cell_type": "code",
   "execution_count": 13,
   "metadata": {
    "_uuid": "718ed7057e01777df04e51dfac78af1f30afbba7"
   },
   "outputs": [
    {
     "data": {
      "text/plain": [
       "(12288, 7)"
      ]
     },
     "execution_count": 13,
     "metadata": {},
     "output_type": "execute_result"
    }
   ],
   "source": [
    "df.dropna(subset=['type'], inplace=True)\n",
    "df.shape"
   ]
  },
  {
   "cell_type": "markdown",
   "metadata": {
    "_uuid": "c35e2f1b909d76032bc18b0fa7c2fca5d6b1ccfe"
   },
   "source": [
    "## Handling Unknown Genre"
   ]
  },
  {
   "cell_type": "code",
   "execution_count": 14,
   "metadata": {
    "_uuid": "c1971585c8ce37d6dab6a72356c05030c82fe7ea"
   },
   "outputs": [
    {
     "data": {
      "text/plain": [
       "anime_id     0\n",
       "name         0\n",
       "genre       61\n",
       "type         0\n",
       "episodes     0\n",
       "rating       0\n",
       "members      0\n",
       "dtype: int64"
      ]
     },
     "execution_count": 14,
     "metadata": {},
     "output_type": "execute_result"
    }
   ],
   "source": [
    "df.isnull().sum()"
   ]
  },
  {
   "cell_type": "code",
   "execution_count": 15,
   "metadata": {
    "_uuid": "f0432f68a2a561f1dd4f06db13ec3ba86470342d"
   },
   "outputs": [
    {
     "data": {
      "text/html": [
       "<div>\n",
       "<style scoped>\n",
       "    .dataframe tbody tr th:only-of-type {\n",
       "        vertical-align: middle;\n",
       "    }\n",
       "\n",
       "    .dataframe tbody tr th {\n",
       "        vertical-align: top;\n",
       "    }\n",
       "\n",
       "    .dataframe thead th {\n",
       "        text-align: right;\n",
       "    }\n",
       "</style>\n",
       "<table border=\"1\" class=\"dataframe\">\n",
       "  <thead>\n",
       "    <tr style=\"text-align: right;\">\n",
       "      <th></th>\n",
       "      <th>anime_id</th>\n",
       "      <th>name</th>\n",
       "      <th>genre</th>\n",
       "      <th>type</th>\n",
       "      <th>episodes</th>\n",
       "      <th>rating</th>\n",
       "      <th>members</th>\n",
       "    </tr>\n",
       "  </thead>\n",
       "  <tbody>\n",
       "    <tr>\n",
       "      <td>2844</td>\n",
       "      <td>33242</td>\n",
       "      <td>IS: Infinite Stratos 2 - Infinite Wedding</td>\n",
       "      <td>NaN</td>\n",
       "      <td>Special</td>\n",
       "      <td>1</td>\n",
       "      <td>7.15</td>\n",
       "      <td>6604</td>\n",
       "    </tr>\n",
       "    <tr>\n",
       "      <td>3541</td>\n",
       "      <td>33589</td>\n",
       "      <td>ViVid Strike!</td>\n",
       "      <td>NaN</td>\n",
       "      <td>TV</td>\n",
       "      <td>12</td>\n",
       "      <td>6.96</td>\n",
       "      <td>12345</td>\n",
       "    </tr>\n",
       "    <tr>\n",
       "      <td>6040</td>\n",
       "      <td>29765</td>\n",
       "      <td>Metropolis (2009)</td>\n",
       "      <td>NaN</td>\n",
       "      <td>Movie</td>\n",
       "      <td>1</td>\n",
       "      <td>6.27</td>\n",
       "      <td>313</td>\n",
       "    </tr>\n",
       "    <tr>\n",
       "      <td>6646</td>\n",
       "      <td>32695</td>\n",
       "      <td>Match Shoujo</td>\n",
       "      <td>NaN</td>\n",
       "      <td>ONA</td>\n",
       "      <td>1</td>\n",
       "      <td>6.02</td>\n",
       "      <td>242</td>\n",
       "    </tr>\n",
       "    <tr>\n",
       "      <td>7018</td>\n",
       "      <td>33187</td>\n",
       "      <td>Katsudou Shashin</td>\n",
       "      <td>NaN</td>\n",
       "      <td>Movie</td>\n",
       "      <td>1</td>\n",
       "      <td>5.79</td>\n",
       "      <td>607</td>\n",
       "    </tr>\n",
       "    <tr>\n",
       "      <td>...</td>\n",
       "      <td>...</td>\n",
       "      <td>...</td>\n",
       "      <td>...</td>\n",
       "      <td>...</td>\n",
       "      <td>...</td>\n",
       "      <td>...</td>\n",
       "      <td>...</td>\n",
       "    </tr>\n",
       "    <tr>\n",
       "      <td>11070</td>\n",
       "      <td>32032</td>\n",
       "      <td>Seikaisuru Kado</td>\n",
       "      <td>NaN</td>\n",
       "      <td>TV</td>\n",
       "      <td>12</td>\n",
       "      <td>0.00</td>\n",
       "      <td>1797</td>\n",
       "    </tr>\n",
       "    <tr>\n",
       "      <td>11086</td>\n",
       "      <td>34310</td>\n",
       "      <td>Tamagotchi Movie: Tanpen Himitsu no Otodoke Da...</td>\n",
       "      <td>NaN</td>\n",
       "      <td>Movie</td>\n",
       "      <td>1</td>\n",
       "      <td>0.00</td>\n",
       "      <td>51</td>\n",
       "    </tr>\n",
       "    <tr>\n",
       "      <td>11097</td>\n",
       "      <td>34474</td>\n",
       "      <td>Tsukipro The Animation</td>\n",
       "      <td>NaN</td>\n",
       "      <td>TV</td>\n",
       "      <td>Unknown</td>\n",
       "      <td>0.00</td>\n",
       "      <td>843</td>\n",
       "    </tr>\n",
       "    <tr>\n",
       "      <td>11112</td>\n",
       "      <td>33035</td>\n",
       "      <td>Yuyushiki Special</td>\n",
       "      <td>NaN</td>\n",
       "      <td>Special</td>\n",
       "      <td>1</td>\n",
       "      <td>0.00</td>\n",
       "      <td>2294</td>\n",
       "    </tr>\n",
       "    <tr>\n",
       "      <td>11113</td>\n",
       "      <td>33390</td>\n",
       "      <td>Zunda Horizon</td>\n",
       "      <td>NaN</td>\n",
       "      <td>Movie</td>\n",
       "      <td>1</td>\n",
       "      <td>0.00</td>\n",
       "      <td>160</td>\n",
       "    </tr>\n",
       "  </tbody>\n",
       "</table>\n",
       "<p>61 rows × 7 columns</p>\n",
       "</div>"
      ],
      "text/plain": [
       "       anime_id                                               name genre  \\\n",
       "2844      33242          IS: Infinite Stratos 2 - Infinite Wedding   NaN   \n",
       "3541      33589                                      ViVid Strike!   NaN   \n",
       "6040      29765                                  Metropolis (2009)   NaN   \n",
       "6646      32695                                       Match Shoujo   NaN   \n",
       "7018      33187                                   Katsudou Shashin   NaN   \n",
       "...         ...                                                ...   ...   \n",
       "11070     32032                                    Seikaisuru Kado   NaN   \n",
       "11086     34310  Tamagotchi Movie: Tanpen Himitsu no Otodoke Da...   NaN   \n",
       "11097     34474                             Tsukipro The Animation   NaN   \n",
       "11112     33035                                  Yuyushiki Special   NaN   \n",
       "11113     33390                                      Zunda Horizon   NaN   \n",
       "\n",
       "          type episodes  rating  members  \n",
       "2844   Special        1    7.15     6604  \n",
       "3541        TV       12    6.96    12345  \n",
       "6040     Movie        1    6.27      313  \n",
       "6646       ONA        1    6.02      242  \n",
       "7018     Movie        1    5.79      607  \n",
       "...        ...      ...     ...      ...  \n",
       "11070       TV       12    0.00     1797  \n",
       "11086    Movie        1    0.00       51  \n",
       "11097       TV  Unknown    0.00      843  \n",
       "11112  Special        1    0.00     2294  \n",
       "11113    Movie        1    0.00      160  \n",
       "\n",
       "[61 rows x 7 columns]"
      ]
     },
     "execution_count": 15,
     "metadata": {},
     "output_type": "execute_result"
    }
   ],
   "source": [
    "df[df['genre'].isnull()]"
   ]
  },
  {
   "cell_type": "markdown",
   "metadata": {
    "_uuid": "e71a6d162a986032f98193a025b0a75c202c9013"
   },
   "source": [
    "For now, let's just fill it with 'Unknown'."
   ]
  },
  {
   "cell_type": "code",
   "execution_count": 16,
   "metadata": {
    "_uuid": "a657975c7d53808369dac39e08b67c7c4046a47a"
   },
   "outputs": [
    {
     "data": {
      "text/plain": [
       "anime_id    False\n",
       "name        False\n",
       "genre       False\n",
       "type        False\n",
       "episodes    False\n",
       "rating      False\n",
       "members     False\n",
       "dtype: bool"
      ]
     },
     "execution_count": 16,
     "metadata": {},
     "output_type": "execute_result"
    }
   ],
   "source": [
    "df['genre'].fillna('Unknown', inplace=True)\n",
    "df.isnull().any()"
   ]
  },
  {
   "cell_type": "markdown",
   "metadata": {
    "_uuid": "ba23786f6c254f3db72a9d5f6029cf6d1a283161"
   },
   "source": [
    "# Build the Recommender System"
   ]
  },
  {
   "cell_type": "code",
   "execution_count": 17,
   "metadata": {
    "_uuid": "8c66ea8b83916c0ab8f04248d7c922815bc0ca2c"
   },
   "outputs": [
    {
     "data": {
      "text/html": [
       "<div>\n",
       "<style scoped>\n",
       "    .dataframe tbody tr th:only-of-type {\n",
       "        vertical-align: middle;\n",
       "    }\n",
       "\n",
       "    .dataframe tbody tr th {\n",
       "        vertical-align: top;\n",
       "    }\n",
       "\n",
       "    .dataframe thead th {\n",
       "        text-align: right;\n",
       "    }\n",
       "</style>\n",
       "<table border=\"1\" class=\"dataframe\">\n",
       "  <thead>\n",
       "    <tr style=\"text-align: right;\">\n",
       "      <th></th>\n",
       "      <th>anime_id</th>\n",
       "      <th>name</th>\n",
       "      <th>genre</th>\n",
       "      <th>type</th>\n",
       "      <th>episodes</th>\n",
       "      <th>rating</th>\n",
       "      <th>members</th>\n",
       "    </tr>\n",
       "  </thead>\n",
       "  <tbody>\n",
       "    <tr>\n",
       "      <td>0</td>\n",
       "      <td>32281</td>\n",
       "      <td>Kimi no Na wa.</td>\n",
       "      <td>Drama, Romance, School, Supernatural</td>\n",
       "      <td>Movie</td>\n",
       "      <td>1</td>\n",
       "      <td>9.37</td>\n",
       "      <td>200630</td>\n",
       "    </tr>\n",
       "    <tr>\n",
       "      <td>1</td>\n",
       "      <td>5114</td>\n",
       "      <td>Fullmetal Alchemist: Brotherhood</td>\n",
       "      <td>Action, Adventure, Drama, Fantasy, Magic, Mili...</td>\n",
       "      <td>TV</td>\n",
       "      <td>64</td>\n",
       "      <td>9.26</td>\n",
       "      <td>793665</td>\n",
       "    </tr>\n",
       "    <tr>\n",
       "      <td>2</td>\n",
       "      <td>28977</td>\n",
       "      <td>Gintama°</td>\n",
       "      <td>Action, Comedy, Historical, Parody, Samurai, S...</td>\n",
       "      <td>TV</td>\n",
       "      <td>51</td>\n",
       "      <td>9.25</td>\n",
       "      <td>114262</td>\n",
       "    </tr>\n",
       "    <tr>\n",
       "      <td>3</td>\n",
       "      <td>9253</td>\n",
       "      <td>Steins;Gate</td>\n",
       "      <td>Sci-Fi, Thriller</td>\n",
       "      <td>TV</td>\n",
       "      <td>24</td>\n",
       "      <td>9.17</td>\n",
       "      <td>673572</td>\n",
       "    </tr>\n",
       "    <tr>\n",
       "      <td>4</td>\n",
       "      <td>9969</td>\n",
       "      <td>Gintama&amp;#039;</td>\n",
       "      <td>Action, Comedy, Historical, Parody, Samurai, S...</td>\n",
       "      <td>TV</td>\n",
       "      <td>51</td>\n",
       "      <td>9.16</td>\n",
       "      <td>151266</td>\n",
       "    </tr>\n",
       "  </tbody>\n",
       "</table>\n",
       "</div>"
      ],
      "text/plain": [
       "   anime_id                              name  \\\n",
       "0     32281                    Kimi no Na wa.   \n",
       "1      5114  Fullmetal Alchemist: Brotherhood   \n",
       "2     28977                          Gintama°   \n",
       "3      9253                       Steins;Gate   \n",
       "4      9969                     Gintama&#039;   \n",
       "\n",
       "                                               genre   type episodes  rating  \\\n",
       "0               Drama, Romance, School, Supernatural  Movie        1    9.37   \n",
       "1  Action, Adventure, Drama, Fantasy, Magic, Mili...     TV       64    9.26   \n",
       "2  Action, Comedy, Historical, Parody, Samurai, S...     TV       51    9.25   \n",
       "3                                   Sci-Fi, Thriller     TV       24    9.17   \n",
       "4  Action, Comedy, Historical, Parody, Samurai, S...     TV       51    9.16   \n",
       "\n",
       "   members  \n",
       "0   200630  \n",
       "1   793665  \n",
       "2   114262  \n",
       "3   673572  \n",
       "4   151266  "
      ]
     },
     "execution_count": 17,
     "metadata": {},
     "output_type": "execute_result"
    }
   ],
   "source": [
    "df.head()"
   ]
  },
  {
   "cell_type": "markdown",
   "metadata": {
    "_uuid": "5b72a3af01ec844f11ed63efcba36293c08535f9"
   },
   "source": [
    "## Dropping some unused columns"
   ]
  },
  {
   "cell_type": "code",
   "execution_count": 21,
   "metadata": {
    "_uuid": "72b33f15a960b2e7d3f1dfbcb8f327cad3fb66f0"
   },
   "outputs": [
    {
     "data": {
      "text/html": [
       "<div>\n",
       "<style scoped>\n",
       "    .dataframe tbody tr th:only-of-type {\n",
       "        vertical-align: middle;\n",
       "    }\n",
       "\n",
       "    .dataframe tbody tr th {\n",
       "        vertical-align: top;\n",
       "    }\n",
       "\n",
       "    .dataframe thead th {\n",
       "        text-align: right;\n",
       "    }\n",
       "</style>\n",
       "<table border=\"1\" class=\"dataframe\">\n",
       "  <thead>\n",
       "    <tr style=\"text-align: right;\">\n",
       "      <th></th>\n",
       "      <th>name</th>\n",
       "      <th>genre</th>\n",
       "      <th>type</th>\n",
       "      <th>community_rating</th>\n",
       "    </tr>\n",
       "  </thead>\n",
       "  <tbody>\n",
       "    <tr>\n",
       "      <td>0</td>\n",
       "      <td>Kimi no Na wa.</td>\n",
       "      <td>Drama, Romance, School, Supernatural</td>\n",
       "      <td>Movie</td>\n",
       "      <td>9.234437</td>\n",
       "    </tr>\n",
       "    <tr>\n",
       "      <td>1</td>\n",
       "      <td>Fullmetal Alchemist: Brotherhood</td>\n",
       "      <td>Action, Adventure, Drama, Fantasy, Magic, Mili...</td>\n",
       "      <td>TV</td>\n",
       "      <td>9.225834</td>\n",
       "    </tr>\n",
       "    <tr>\n",
       "      <td>2</td>\n",
       "      <td>Gintama°</td>\n",
       "      <td>Action, Comedy, Historical, Parody, Samurai, S...</td>\n",
       "      <td>TV</td>\n",
       "      <td>9.028960</td>\n",
       "    </tr>\n",
       "    <tr>\n",
       "      <td>3</td>\n",
       "      <td>Steins;Gate</td>\n",
       "      <td>Sci-Fi, Thriller</td>\n",
       "      <td>TV</td>\n",
       "      <td>9.131071</td>\n",
       "    </tr>\n",
       "    <tr>\n",
       "      <td>4</td>\n",
       "      <td>Gintama&amp;#039;</td>\n",
       "      <td>Action, Comedy, Historical, Parody, Samurai, S...</td>\n",
       "      <td>TV</td>\n",
       "      <td>8.995145</td>\n",
       "    </tr>\n",
       "  </tbody>\n",
       "</table>\n",
       "</div>"
      ],
      "text/plain": [
       "                               name  \\\n",
       "0                    Kimi no Na wa.   \n",
       "1  Fullmetal Alchemist: Brotherhood   \n",
       "2                          Gintama°   \n",
       "3                       Steins;Gate   \n",
       "4                     Gintama&#039;   \n",
       "\n",
       "                                               genre   type  community_rating  \n",
       "0               Drama, Romance, School, Supernatural  Movie          9.234437  \n",
       "1  Action, Adventure, Drama, Fantasy, Magic, Mili...     TV          9.225834  \n",
       "2  Action, Comedy, Historical, Parody, Samurai, S...     TV          9.028960  \n",
       "3                                   Sci-Fi, Thriller     TV          9.131071  \n",
       "4  Action, Comedy, Historical, Parody, Samurai, S...     TV          8.995145  "
      ]
     },
     "execution_count": 21,
     "metadata": {},
     "output_type": "execute_result"
    }
   ],
   "source": [
    "df.drop(['anime_id', 'rating', 'members', 'episodes'], axis=1, inplace=True)\n",
    "df.head()"
   ]
  },
  {
   "cell_type": "markdown",
   "metadata": {
    "_uuid": "c046cc6f0af86a5c897c1d04d9f5f605f3a376c3"
   },
   "source": [
    "## Breakdown the genre and type"
   ]
  },
  {
   "cell_type": "markdown",
   "metadata": {
    "_uuid": "9b1ea72a1e1b99a07a9b1474748ba711e29e1530"
   },
   "source": [
    "We want our algorithm to treat the 'type' and 'genre' of anime as equal. Therefore if we use label encoding, maybe the algorithm will treat a certain category more important than the other categories."
   ]
  },
  {
   "cell_type": "code",
   "execution_count": 22,
   "metadata": {
    "_uuid": "70005a166295880277167f9a25f25933ec73db14"
   },
   "outputs": [
    {
     "data": {
      "text/html": [
       "<div>\n",
       "<style scoped>\n",
       "    .dataframe tbody tr th:only-of-type {\n",
       "        vertical-align: middle;\n",
       "    }\n",
       "\n",
       "    .dataframe tbody tr th {\n",
       "        vertical-align: top;\n",
       "    }\n",
       "\n",
       "    .dataframe thead th {\n",
       "        text-align: right;\n",
       "    }\n",
       "</style>\n",
       "<table border=\"1\" class=\"dataframe\">\n",
       "  <thead>\n",
       "    <tr style=\"text-align: right;\">\n",
       "      <th></th>\n",
       "      <th>name</th>\n",
       "      <th>genre</th>\n",
       "      <th>type</th>\n",
       "      <th>community_rating</th>\n",
       "      <th>Movie</th>\n",
       "      <th>Music</th>\n",
       "      <th>ONA</th>\n",
       "      <th>OVA</th>\n",
       "      <th>Special</th>\n",
       "      <th>TV</th>\n",
       "      <th>...</th>\n",
       "      <th>Shounen</th>\n",
       "      <th>Slice of Life</th>\n",
       "      <th>Space</th>\n",
       "      <th>Sports</th>\n",
       "      <th>Super Power</th>\n",
       "      <th>Supernatural</th>\n",
       "      <th>Thriller</th>\n",
       "      <th>Unknown</th>\n",
       "      <th>Vampire</th>\n",
       "      <th>Yaoi</th>\n",
       "    </tr>\n",
       "  </thead>\n",
       "  <tbody>\n",
       "    <tr>\n",
       "      <td>0</td>\n",
       "      <td>Kimi no Na wa.</td>\n",
       "      <td>Drama, Romance, School, Supernatural</td>\n",
       "      <td>Movie</td>\n",
       "      <td>9.234437</td>\n",
       "      <td>1</td>\n",
       "      <td>0</td>\n",
       "      <td>0</td>\n",
       "      <td>0</td>\n",
       "      <td>0</td>\n",
       "      <td>0</td>\n",
       "      <td>...</td>\n",
       "      <td>0</td>\n",
       "      <td>0</td>\n",
       "      <td>0</td>\n",
       "      <td>0</td>\n",
       "      <td>0</td>\n",
       "      <td>0</td>\n",
       "      <td>0</td>\n",
       "      <td>0</td>\n",
       "      <td>0</td>\n",
       "      <td>0</td>\n",
       "    </tr>\n",
       "    <tr>\n",
       "      <td>1</td>\n",
       "      <td>Fullmetal Alchemist: Brotherhood</td>\n",
       "      <td>Action, Adventure, Drama, Fantasy, Magic, Mili...</td>\n",
       "      <td>TV</td>\n",
       "      <td>9.225834</td>\n",
       "      <td>0</td>\n",
       "      <td>0</td>\n",
       "      <td>0</td>\n",
       "      <td>0</td>\n",
       "      <td>0</td>\n",
       "      <td>1</td>\n",
       "      <td>...</td>\n",
       "      <td>0</td>\n",
       "      <td>0</td>\n",
       "      <td>0</td>\n",
       "      <td>0</td>\n",
       "      <td>0</td>\n",
       "      <td>0</td>\n",
       "      <td>0</td>\n",
       "      <td>0</td>\n",
       "      <td>0</td>\n",
       "      <td>0</td>\n",
       "    </tr>\n",
       "    <tr>\n",
       "      <td>2</td>\n",
       "      <td>Gintama°</td>\n",
       "      <td>Action, Comedy, Historical, Parody, Samurai, S...</td>\n",
       "      <td>TV</td>\n",
       "      <td>9.028960</td>\n",
       "      <td>0</td>\n",
       "      <td>0</td>\n",
       "      <td>0</td>\n",
       "      <td>0</td>\n",
       "      <td>0</td>\n",
       "      <td>1</td>\n",
       "      <td>...</td>\n",
       "      <td>0</td>\n",
       "      <td>0</td>\n",
       "      <td>0</td>\n",
       "      <td>0</td>\n",
       "      <td>0</td>\n",
       "      <td>0</td>\n",
       "      <td>0</td>\n",
       "      <td>0</td>\n",
       "      <td>0</td>\n",
       "      <td>0</td>\n",
       "    </tr>\n",
       "    <tr>\n",
       "      <td>3</td>\n",
       "      <td>Steins;Gate</td>\n",
       "      <td>Sci-Fi, Thriller</td>\n",
       "      <td>TV</td>\n",
       "      <td>9.131071</td>\n",
       "      <td>0</td>\n",
       "      <td>0</td>\n",
       "      <td>0</td>\n",
       "      <td>0</td>\n",
       "      <td>0</td>\n",
       "      <td>1</td>\n",
       "      <td>...</td>\n",
       "      <td>0</td>\n",
       "      <td>0</td>\n",
       "      <td>0</td>\n",
       "      <td>0</td>\n",
       "      <td>0</td>\n",
       "      <td>0</td>\n",
       "      <td>0</td>\n",
       "      <td>0</td>\n",
       "      <td>0</td>\n",
       "      <td>0</td>\n",
       "    </tr>\n",
       "    <tr>\n",
       "      <td>4</td>\n",
       "      <td>Gintama&amp;#039;</td>\n",
       "      <td>Action, Comedy, Historical, Parody, Samurai, S...</td>\n",
       "      <td>TV</td>\n",
       "      <td>8.995145</td>\n",
       "      <td>0</td>\n",
       "      <td>0</td>\n",
       "      <td>0</td>\n",
       "      <td>0</td>\n",
       "      <td>0</td>\n",
       "      <td>1</td>\n",
       "      <td>...</td>\n",
       "      <td>0</td>\n",
       "      <td>0</td>\n",
       "      <td>0</td>\n",
       "      <td>0</td>\n",
       "      <td>0</td>\n",
       "      <td>0</td>\n",
       "      <td>0</td>\n",
       "      <td>0</td>\n",
       "      <td>0</td>\n",
       "      <td>0</td>\n",
       "    </tr>\n",
       "  </tbody>\n",
       "</table>\n",
       "<p>5 rows × 93 columns</p>\n",
       "</div>"
      ],
      "text/plain": [
       "                               name  \\\n",
       "0                    Kimi no Na wa.   \n",
       "1  Fullmetal Alchemist: Brotherhood   \n",
       "2                          Gintama°   \n",
       "3                       Steins;Gate   \n",
       "4                     Gintama&#039;   \n",
       "\n",
       "                                               genre   type  community_rating  \\\n",
       "0               Drama, Romance, School, Supernatural  Movie          9.234437   \n",
       "1  Action, Adventure, Drama, Fantasy, Magic, Mili...     TV          9.225834   \n",
       "2  Action, Comedy, Historical, Parody, Samurai, S...     TV          9.028960   \n",
       "3                                   Sci-Fi, Thriller     TV          9.131071   \n",
       "4  Action, Comedy, Historical, Parody, Samurai, S...     TV          8.995145   \n",
       "\n",
       "   Movie  Music  ONA  OVA  Special  TV  ...  Shounen  Slice of Life  Space  \\\n",
       "0      1      0    0    0        0   0  ...        0              0      0   \n",
       "1      0      0    0    0        0   1  ...        0              0      0   \n",
       "2      0      0    0    0        0   1  ...        0              0      0   \n",
       "3      0      0    0    0        0   1  ...        0              0      0   \n",
       "4      0      0    0    0        0   1  ...        0              0      0   \n",
       "\n",
       "   Sports  Super Power  Supernatural  Thriller  Unknown  Vampire  Yaoi  \n",
       "0       0            0             0         0        0        0     0  \n",
       "1       0            0             0         0        0        0     0  \n",
       "2       0            0             0         0        0        0     0  \n",
       "3       0            0             0         0        0        0     0  \n",
       "4       0            0             0         0        0        0     0  \n",
       "\n",
       "[5 rows x 93 columns]"
      ]
     },
     "execution_count": 22,
     "metadata": {},
     "output_type": "execute_result"
    }
   ],
   "source": [
    "df = pd.concat([df, df['type'].str.get_dummies(), df['genre'].str.get_dummies(sep=',')], axis=1)\n",
    "df.head()"
   ]
  },
  {
   "cell_type": "code",
   "execution_count": 23,
   "metadata": {
    "_uuid": "5a643d1633c68762178442c053d1990c82c1eb7e"
   },
   "outputs": [
    {
     "data": {
      "text/html": [
       "<div>\n",
       "<style scoped>\n",
       "    .dataframe tbody tr th:only-of-type {\n",
       "        vertical-align: middle;\n",
       "    }\n",
       "\n",
       "    .dataframe tbody tr th {\n",
       "        vertical-align: top;\n",
       "    }\n",
       "\n",
       "    .dataframe thead th {\n",
       "        text-align: right;\n",
       "    }\n",
       "</style>\n",
       "<table border=\"1\" class=\"dataframe\">\n",
       "  <thead>\n",
       "    <tr style=\"text-align: right;\">\n",
       "      <th></th>\n",
       "      <th>Movie</th>\n",
       "      <th>Music</th>\n",
       "      <th>ONA</th>\n",
       "      <th>OVA</th>\n",
       "      <th>Special</th>\n",
       "      <th>TV</th>\n",
       "      <th>Adventure</th>\n",
       "      <th>Cars</th>\n",
       "      <th>Comedy</th>\n",
       "      <th>Dementia</th>\n",
       "      <th>...</th>\n",
       "      <th>Shounen</th>\n",
       "      <th>Slice of Life</th>\n",
       "      <th>Space</th>\n",
       "      <th>Sports</th>\n",
       "      <th>Super Power</th>\n",
       "      <th>Supernatural</th>\n",
       "      <th>Thriller</th>\n",
       "      <th>Unknown</th>\n",
       "      <th>Vampire</th>\n",
       "      <th>Yaoi</th>\n",
       "    </tr>\n",
       "  </thead>\n",
       "  <tbody>\n",
       "    <tr>\n",
       "      <td>0</td>\n",
       "      <td>1</td>\n",
       "      <td>0</td>\n",
       "      <td>0</td>\n",
       "      <td>0</td>\n",
       "      <td>0</td>\n",
       "      <td>0</td>\n",
       "      <td>0</td>\n",
       "      <td>0</td>\n",
       "      <td>0</td>\n",
       "      <td>0</td>\n",
       "      <td>...</td>\n",
       "      <td>0</td>\n",
       "      <td>0</td>\n",
       "      <td>0</td>\n",
       "      <td>0</td>\n",
       "      <td>0</td>\n",
       "      <td>0</td>\n",
       "      <td>0</td>\n",
       "      <td>0</td>\n",
       "      <td>0</td>\n",
       "      <td>0</td>\n",
       "    </tr>\n",
       "    <tr>\n",
       "      <td>1</td>\n",
       "      <td>0</td>\n",
       "      <td>0</td>\n",
       "      <td>0</td>\n",
       "      <td>0</td>\n",
       "      <td>0</td>\n",
       "      <td>1</td>\n",
       "      <td>1</td>\n",
       "      <td>0</td>\n",
       "      <td>0</td>\n",
       "      <td>0</td>\n",
       "      <td>...</td>\n",
       "      <td>0</td>\n",
       "      <td>0</td>\n",
       "      <td>0</td>\n",
       "      <td>0</td>\n",
       "      <td>0</td>\n",
       "      <td>0</td>\n",
       "      <td>0</td>\n",
       "      <td>0</td>\n",
       "      <td>0</td>\n",
       "      <td>0</td>\n",
       "    </tr>\n",
       "    <tr>\n",
       "      <td>2</td>\n",
       "      <td>0</td>\n",
       "      <td>0</td>\n",
       "      <td>0</td>\n",
       "      <td>0</td>\n",
       "      <td>0</td>\n",
       "      <td>1</td>\n",
       "      <td>0</td>\n",
       "      <td>0</td>\n",
       "      <td>1</td>\n",
       "      <td>0</td>\n",
       "      <td>...</td>\n",
       "      <td>0</td>\n",
       "      <td>0</td>\n",
       "      <td>0</td>\n",
       "      <td>0</td>\n",
       "      <td>0</td>\n",
       "      <td>0</td>\n",
       "      <td>0</td>\n",
       "      <td>0</td>\n",
       "      <td>0</td>\n",
       "      <td>0</td>\n",
       "    </tr>\n",
       "    <tr>\n",
       "      <td>3</td>\n",
       "      <td>0</td>\n",
       "      <td>0</td>\n",
       "      <td>0</td>\n",
       "      <td>0</td>\n",
       "      <td>0</td>\n",
       "      <td>1</td>\n",
       "      <td>0</td>\n",
       "      <td>0</td>\n",
       "      <td>0</td>\n",
       "      <td>0</td>\n",
       "      <td>...</td>\n",
       "      <td>0</td>\n",
       "      <td>0</td>\n",
       "      <td>0</td>\n",
       "      <td>0</td>\n",
       "      <td>0</td>\n",
       "      <td>0</td>\n",
       "      <td>0</td>\n",
       "      <td>0</td>\n",
       "      <td>0</td>\n",
       "      <td>0</td>\n",
       "    </tr>\n",
       "    <tr>\n",
       "      <td>4</td>\n",
       "      <td>0</td>\n",
       "      <td>0</td>\n",
       "      <td>0</td>\n",
       "      <td>0</td>\n",
       "      <td>0</td>\n",
       "      <td>1</td>\n",
       "      <td>0</td>\n",
       "      <td>0</td>\n",
       "      <td>1</td>\n",
       "      <td>0</td>\n",
       "      <td>...</td>\n",
       "      <td>0</td>\n",
       "      <td>0</td>\n",
       "      <td>0</td>\n",
       "      <td>0</td>\n",
       "      <td>0</td>\n",
       "      <td>0</td>\n",
       "      <td>0</td>\n",
       "      <td>0</td>\n",
       "      <td>0</td>\n",
       "      <td>0</td>\n",
       "    </tr>\n",
       "  </tbody>\n",
       "</table>\n",
       "<p>5 rows × 89 columns</p>\n",
       "</div>"
      ],
      "text/plain": [
       "   Movie  Music  ONA  OVA  Special  TV   Adventure   Cars   Comedy   Dementia  \\\n",
       "0      1      0    0    0        0   0           0      0        0          0   \n",
       "1      0      0    0    0        0   1           1      0        0          0   \n",
       "2      0      0    0    0        0   1           0      0        1          0   \n",
       "3      0      0    0    0        0   1           0      0        0          0   \n",
       "4      0      0    0    0        0   1           0      0        1          0   \n",
       "\n",
       "   ...  Shounen  Slice of Life  Space  Sports  Super Power  Supernatural  \\\n",
       "0  ...        0              0      0       0            0             0   \n",
       "1  ...        0              0      0       0            0             0   \n",
       "2  ...        0              0      0       0            0             0   \n",
       "3  ...        0              0      0       0            0             0   \n",
       "4  ...        0              0      0       0            0             0   \n",
       "\n",
       "   Thriller  Unknown  Vampire  Yaoi  \n",
       "0         0        0        0     0  \n",
       "1         0        0        0     0  \n",
       "2         0        0        0     0  \n",
       "3         0        0        0     0  \n",
       "4         0        0        0     0  \n",
       "\n",
       "[5 rows x 89 columns]"
      ]
     },
     "execution_count": 23,
     "metadata": {},
     "output_type": "execute_result"
    }
   ],
   "source": [
    "anime_features = df.loc[:, \"Movie\":].copy()\n",
    "anime_features.head()"
   ]
  },
  {
   "cell_type": "code",
   "execution_count": 24,
   "metadata": {},
   "outputs": [
    {
     "data": {
      "text/plain": [
       "array([[1, 0, 0, ..., 0, 0, 0],\n",
       "       [0, 0, 0, ..., 0, 0, 0],\n",
       "       [0, 0, 0, ..., 0, 0, 0],\n",
       "       ...,\n",
       "       [0, 0, 0, ..., 0, 0, 0],\n",
       "       [0, 0, 0, ..., 0, 0, 0],\n",
       "       [1, 0, 0, ..., 0, 0, 0]], dtype=int64)"
      ]
     },
     "execution_count": 24,
     "metadata": {},
     "output_type": "execute_result"
    }
   ],
   "source": [
    "anime_features.values"
   ]
  },
  {
   "cell_type": "markdown",
   "metadata": {
    "_uuid": "9c822808a3ce4f419906f9475fe247c030346efa"
   },
   "source": [
    "## Calculate the similarity matrix"
   ]
  },
  {
   "cell_type": "code",
   "execution_count": 25,
   "metadata": {
    "_uuid": "973fe6f640e75425c3f0794a9375a2a94b17e959",
    "collapsed": true
   },
   "outputs": [],
   "source": [
    "cosine_sim = cosine_similarity(anime_features.values, anime_features.values)"
   ]
  },
  {
   "cell_type": "code",
   "execution_count": 26,
   "metadata": {
    "_uuid": "ade8d7d6d1c522215a981b128a3206b88e1e58b0"
   },
   "outputs": [
    {
     "data": {
      "text/plain": [
       "array([[1.        , 0.        , 0.        , ..., 0.        , 0.        ,\n",
       "        0.31622777],\n",
       "       [0.        , 1.        , 0.375     , ..., 0.        , 0.        ,\n",
       "        0.        ],\n",
       "       [0.        , 0.375     , 1.        , ..., 0.        , 0.        ,\n",
       "        0.        ],\n",
       "       ...,\n",
       "       [0.        , 0.        , 0.        , ..., 1.        , 1.        ,\n",
       "        0.5       ],\n",
       "       [0.        , 0.        , 0.        , ..., 1.        , 1.        ,\n",
       "        0.5       ],\n",
       "       [0.31622777, 0.        , 0.        , ..., 0.5       , 0.5       ,\n",
       "        1.        ]])"
      ]
     },
     "execution_count": 26,
     "metadata": {},
     "output_type": "execute_result"
    }
   ],
   "source": [
    "cosine_sim"
   ]
  },
  {
   "cell_type": "code",
   "execution_count": 27,
   "metadata": {
    "_uuid": "ad632a484d1b046bf26eb1423c14a4e0f8e24ee6"
   },
   "outputs": [
    {
     "data": {
      "text/plain": [
       "(12288, 12288)"
      ]
     },
     "execution_count": 27,
     "metadata": {},
     "output_type": "execute_result"
    }
   ],
   "source": [
    "cosine_sim.shape"
   ]
  },
  {
   "cell_type": "markdown",
   "metadata": {
    "_uuid": "d0eb2e25fe4faa53737c5ff13e2a9dc88ebadf71"
   },
   "source": [
    "Now we must create an indexing for each anime name, this will be used when user querying a recommendation."
   ]
  },
  {
   "cell_type": "code",
   "execution_count": 28,
   "metadata": {
    "_uuid": "fecd2a706c2f94736b2bec66015d66631316da67",
    "collapsed": true
   },
   "outputs": [],
   "source": [
    "anime_index = pd.Series(df.index, index=df.name).drop_duplicates()"
   ]
  },
  {
   "cell_type": "code",
   "execution_count": 54,
   "metadata": {},
   "outputs": [
    {
     "data": {
      "text/plain": [
       "3"
      ]
     },
     "execution_count": 54,
     "metadata": {},
     "output_type": "execute_result"
    }
   ],
   "source": [
    "anime_index['Steins;Gate']"
   ]
  },
  {
   "cell_type": "code",
   "execution_count": 60,
   "metadata": {
    "_uuid": "9355ac4a51336c02275820ddaa27cc627594a07a",
    "collapsed": true
   },
   "outputs": [],
   "source": [
    "def get_recommendation(anime_name, similarity=cosine_sim):\n",
    "    idx = anime_index[anime_name]\n",
    "    print(idx)\n",
    "    #print(list(enumerate(cosine_sim[idx])))\n",
    "    # Get the pairwsie similarity scores of all anime with that anime\n",
    "    sim_scores = list(enumerate(cosine_sim[idx]))\n",
    "    #print(sim_scores)\n",
    "    # Sort the anime based on the similarity scores\n",
    "    sim_scores = sorted(sim_scores, key=lambda x: x[1], reverse=True)\n",
    "\n",
    "    # Get the scores of the 10 most similar anime\n",
    "    sim_scores = sim_scores[0:11]\n",
    "    print(sim_scores)\n",
    "    # Get the anime indices\n",
    "    anime_indices = [i[0] for i in sim_scores]\n",
    "    print(anime_indices)\n",
    "    # Return the top 10 most similar anime\n",
    "    result = df[['name', 'genre']].iloc[anime_indices].drop(idx)\n",
    "    return result"
   ]
  },
  {
   "cell_type": "code",
   "execution_count": 61,
   "metadata": {
    "_uuid": "fa91e3d55571efaaedd44917c51901f0031bfd65"
   },
   "outputs": [
    {
     "name": "stdout",
     "output_type": "stream",
     "text": [
      "3\n",
      "[(3, 1.0000000000000002), (10898, 1.0000000000000002), (3581, 0.816496580927726), (7984, 0.816496580927726), (8910, 0.816496580927726), (10079, 0.816496580927726), (10858, 0.816496580927726), (10975, 0.816496580927726), (59, 0.6666666666666669), (126, 0.6666666666666669), (196, 0.6666666666666669)]\n",
      "[3, 10898, 3581, 7984, 8910, 10079, 10858, 10975, 59, 126, 196]\n"
     ]
    },
    {
     "data": {
      "text/html": [
       "<div>\n",
       "<style scoped>\n",
       "    .dataframe tbody tr th:only-of-type {\n",
       "        vertical-align: middle;\n",
       "    }\n",
       "\n",
       "    .dataframe tbody tr th {\n",
       "        vertical-align: top;\n",
       "    }\n",
       "\n",
       "    .dataframe thead th {\n",
       "        text-align: right;\n",
       "    }\n",
       "</style>\n",
       "<table border=\"1\" class=\"dataframe\">\n",
       "  <thead>\n",
       "    <tr style=\"text-align: right;\">\n",
       "      <th></th>\n",
       "      <th>name</th>\n",
       "      <th>genre</th>\n",
       "    </tr>\n",
       "  </thead>\n",
       "  <tbody>\n",
       "    <tr>\n",
       "      <td>10898</td>\n",
       "      <td>Steins;Gate 0</td>\n",
       "      <td>Sci-Fi, Thriller</td>\n",
       "    </tr>\n",
       "    <tr>\n",
       "      <td>3581</td>\n",
       "      <td>Fireball Charming</td>\n",
       "      <td>Sci-Fi</td>\n",
       "    </tr>\n",
       "    <tr>\n",
       "      <td>7984</td>\n",
       "      <td>Hanoka</td>\n",
       "      <td>Sci-Fi</td>\n",
       "    </tr>\n",
       "    <tr>\n",
       "      <td>8910</td>\n",
       "      <td>Hoshi no Ko Poron</td>\n",
       "      <td>Sci-Fi</td>\n",
       "    </tr>\n",
       "    <tr>\n",
       "      <td>10079</td>\n",
       "      <td>RoboDz</td>\n",
       "      <td>Sci-Fi</td>\n",
       "    </tr>\n",
       "    <tr>\n",
       "      <td>10858</td>\n",
       "      <td>Yuusei Kamen</td>\n",
       "      <td>Sci-Fi</td>\n",
       "    </tr>\n",
       "    <tr>\n",
       "      <td>10975</td>\n",
       "      <td>Escha Chron</td>\n",
       "      <td>Sci-Fi</td>\n",
       "    </tr>\n",
       "    <tr>\n",
       "      <td>59</td>\n",
       "      <td>Steins;Gate Movie: Fuka Ryouiki no Déjà vu</td>\n",
       "      <td>Sci-Fi, Thriller</td>\n",
       "    </tr>\n",
       "    <tr>\n",
       "      <td>126</td>\n",
       "      <td>Steins;Gate: Oukoubakko no Poriomania</td>\n",
       "      <td>Sci-Fi, Thriller</td>\n",
       "    </tr>\n",
       "    <tr>\n",
       "      <td>196</td>\n",
       "      <td>Steins;Gate: Kyoukaimenjou no Missing Link - D...</td>\n",
       "      <td>Sci-Fi, Thriller</td>\n",
       "    </tr>\n",
       "  </tbody>\n",
       "</table>\n",
       "</div>"
      ],
      "text/plain": [
       "                                                    name             genre\n",
       "10898                                      Steins;Gate 0  Sci-Fi, Thriller\n",
       "3581                                   Fireball Charming            Sci-Fi\n",
       "7984                                              Hanoka            Sci-Fi\n",
       "8910                                   Hoshi no Ko Poron            Sci-Fi\n",
       "10079                                             RoboDz            Sci-Fi\n",
       "10858                                       Yuusei Kamen            Sci-Fi\n",
       "10975                                        Escha Chron            Sci-Fi\n",
       "59            Steins;Gate Movie: Fuka Ryouiki no Déjà vu  Sci-Fi, Thriller\n",
       "126                Steins;Gate: Oukoubakko no Poriomania  Sci-Fi, Thriller\n",
       "196    Steins;Gate: Kyoukaimenjou no Missing Link - D...  Sci-Fi, Thriller"
      ]
     },
     "execution_count": 61,
     "metadata": {},
     "output_type": "execute_result"
    }
   ],
   "source": [
    "get_recommendation(\"Steins;Gate\")"
   ]
  },
  {
   "cell_type": "markdown",
   "metadata": {
    "_uuid": "19e8a87be0ff1ed47388ef95e510ac50e8a282d7"
   },
   "source": [
    "We see that it is very reasonable that __Steins;Gate 0__ is the most similar anime, because it is the alternate ending of __Steins;Gate__. The rating is very low because __Steins;Gate 0__ was a new anime when the data is collected."
   ]
  },
  {
   "cell_type": "code",
   "execution_count": 34,
   "metadata": {
    "_uuid": "a72460cb6b364418e5179af81e970b0180278fee"
   },
   "outputs": [
    {
     "data": {
      "text/html": [
       "<div>\n",
       "<style scoped>\n",
       "    .dataframe tbody tr th:only-of-type {\n",
       "        vertical-align: middle;\n",
       "    }\n",
       "\n",
       "    .dataframe tbody tr th {\n",
       "        vertical-align: top;\n",
       "    }\n",
       "\n",
       "    .dataframe thead th {\n",
       "        text-align: right;\n",
       "    }\n",
       "</style>\n",
       "<table border=\"1\" class=\"dataframe\">\n",
       "  <thead>\n",
       "    <tr style=\"text-align: right;\">\n",
       "      <th></th>\n",
       "      <th>name</th>\n",
       "      <th>genre</th>\n",
       "    </tr>\n",
       "  </thead>\n",
       "  <tbody>\n",
       "    <tr>\n",
       "      <td>208</td>\n",
       "      <td>Kokoro ga Sakebitagatterunda.</td>\n",
       "      <td>Drama, Romance, School</td>\n",
       "    </tr>\n",
       "    <tr>\n",
       "      <td>1494</td>\n",
       "      <td>Harmonie</td>\n",
       "      <td>Drama, School, Supernatural</td>\n",
       "    </tr>\n",
       "    <tr>\n",
       "      <td>1959</td>\n",
       "      <td>Air Movie</td>\n",
       "      <td>Drama, Romance, Supernatural</td>\n",
       "    </tr>\n",
       "    <tr>\n",
       "      <td>60</td>\n",
       "      <td>Hotarubi no Mori e</td>\n",
       "      <td>Drama, Romance, Shoujo, Supernatural</td>\n",
       "    </tr>\n",
       "    <tr>\n",
       "      <td>1199</td>\n",
       "      <td>&amp;quot;Bungaku Shoujo&amp;quot; Movie</td>\n",
       "      <td>Drama, Mystery, Romance, School</td>\n",
       "    </tr>\n",
       "    <tr>\n",
       "      <td>2103</td>\n",
       "      <td>Clannad Movie</td>\n",
       "      <td>Drama, Fantasy, Romance, School</td>\n",
       "    </tr>\n",
       "    <tr>\n",
       "      <td>5796</td>\n",
       "      <td>Taifuu no Noruda</td>\n",
       "      <td>Drama, School, Sci-Fi, Supernatural</td>\n",
       "    </tr>\n",
       "    <tr>\n",
       "      <td>5805</td>\n",
       "      <td>Wind: A Breath of Heart OVA</td>\n",
       "      <td>Drama, Romance, School, Supernatural</td>\n",
       "    </tr>\n",
       "    <tr>\n",
       "      <td>6394</td>\n",
       "      <td>Wind: A Breath of Heart (TV)</td>\n",
       "      <td>Drama, Romance, School, Supernatural</td>\n",
       "    </tr>\n",
       "    <tr>\n",
       "      <td>894</td>\n",
       "      <td>Momo e no Tegami</td>\n",
       "      <td>Drama, Supernatural</td>\n",
       "    </tr>\n",
       "  </tbody>\n",
       "</table>\n",
       "</div>"
      ],
      "text/plain": [
       "                                  name                                 genre\n",
       "208      Kokoro ga Sakebitagatterunda.                Drama, Romance, School\n",
       "1494                          Harmonie           Drama, School, Supernatural\n",
       "1959                         Air Movie          Drama, Romance, Supernatural\n",
       "60                  Hotarubi no Mori e  Drama, Romance, Shoujo, Supernatural\n",
       "1199  &quot;Bungaku Shoujo&quot; Movie       Drama, Mystery, Romance, School\n",
       "2103                     Clannad Movie       Drama, Fantasy, Romance, School\n",
       "5796                  Taifuu no Noruda   Drama, School, Sci-Fi, Supernatural\n",
       "5805       Wind: A Breath of Heart OVA  Drama, Romance, School, Supernatural\n",
       "6394      Wind: A Breath of Heart (TV)  Drama, Romance, School, Supernatural\n",
       "894                   Momo e no Tegami                   Drama, Supernatural"
      ]
     },
     "execution_count": 34,
     "metadata": {},
     "output_type": "execute_result"
    }
   ],
   "source": [
    "get_recommendation(\"Kimi no Na wa.\")"
   ]
  },
  {
   "cell_type": "code",
   "execution_count": 35,
   "metadata": {
    "_uuid": "af31748754522b6571ec16a6985585b2f5915067"
   },
   "outputs": [
    {
     "data": {
      "text/html": [
       "<div>\n",
       "<style scoped>\n",
       "    .dataframe tbody tr th:only-of-type {\n",
       "        vertical-align: middle;\n",
       "    }\n",
       "\n",
       "    .dataframe tbody tr th {\n",
       "        vertical-align: top;\n",
       "    }\n",
       "\n",
       "    .dataframe thead th {\n",
       "        text-align: right;\n",
       "    }\n",
       "</style>\n",
       "<table border=\"1\" class=\"dataframe\">\n",
       "  <thead>\n",
       "    <tr style=\"text-align: right;\">\n",
       "      <th></th>\n",
       "      <th>name</th>\n",
       "      <th>genre</th>\n",
       "    </tr>\n",
       "  </thead>\n",
       "  <tbody>\n",
       "    <tr>\n",
       "      <td>0</td>\n",
       "      <td>Kimi no Na wa.</td>\n",
       "      <td>Drama, Romance, School, Supernatural</td>\n",
       "    </tr>\n",
       "    <tr>\n",
       "      <td>1199</td>\n",
       "      <td>&amp;quot;Bungaku Shoujo&amp;quot; Movie</td>\n",
       "      <td>Drama, Mystery, Romance, School</td>\n",
       "    </tr>\n",
       "    <tr>\n",
       "      <td>2103</td>\n",
       "      <td>Clannad Movie</td>\n",
       "      <td>Drama, Fantasy, Romance, School</td>\n",
       "    </tr>\n",
       "    <tr>\n",
       "      <td>5697</td>\n",
       "      <td>Shiranpuri (Movie)</td>\n",
       "      <td>Drama, School</td>\n",
       "    </tr>\n",
       "    <tr>\n",
       "      <td>10123</td>\n",
       "      <td>Samurai</td>\n",
       "      <td>Drama, Romance</td>\n",
       "    </tr>\n",
       "    <tr>\n",
       "      <td>1389</td>\n",
       "      <td>Orange: Mirai</td>\n",
       "      <td>Drama, Romance, School, Sci-Fi, Shoujo</td>\n",
       "    </tr>\n",
       "    <tr>\n",
       "      <td>3544</td>\n",
       "      <td>Ace wo Nerae! (1979)</td>\n",
       "      <td>Drama, Romance, School, Shoujo, Sports</td>\n",
       "    </tr>\n",
       "    <tr>\n",
       "      <td>11</td>\n",
       "      <td>Koe no Katachi</td>\n",
       "      <td>Drama, School, Shounen</td>\n",
       "    </tr>\n",
       "    <tr>\n",
       "      <td>265</td>\n",
       "      <td>Kaze Tachinu</td>\n",
       "      <td>Drama, Historical, Romance</td>\n",
       "    </tr>\n",
       "    <tr>\n",
       "      <td>411</td>\n",
       "      <td>Byousoku 5 Centimeter</td>\n",
       "      <td>Drama, Romance, Slice of Life</td>\n",
       "    </tr>\n",
       "  </tbody>\n",
       "</table>\n",
       "</div>"
      ],
      "text/plain": [
       "                                   name  \\\n",
       "0                        Kimi no Na wa.   \n",
       "1199   &quot;Bungaku Shoujo&quot; Movie   \n",
       "2103                      Clannad Movie   \n",
       "5697                 Shiranpuri (Movie)   \n",
       "10123                           Samurai   \n",
       "1389                      Orange: Mirai   \n",
       "3544               Ace wo Nerae! (1979)   \n",
       "11                       Koe no Katachi   \n",
       "265                        Kaze Tachinu   \n",
       "411               Byousoku 5 Centimeter   \n",
       "\n",
       "                                        genre  \n",
       "0        Drama, Romance, School, Supernatural  \n",
       "1199          Drama, Mystery, Romance, School  \n",
       "2103          Drama, Fantasy, Romance, School  \n",
       "5697                            Drama, School  \n",
       "10123                          Drama, Romance  \n",
       "1389   Drama, Romance, School, Sci-Fi, Shoujo  \n",
       "3544   Drama, Romance, School, Shoujo, Sports  \n",
       "11                     Drama, School, Shounen  \n",
       "265                Drama, Historical, Romance  \n",
       "411             Drama, Romance, Slice of Life  "
      ]
     },
     "execution_count": 35,
     "metadata": {},
     "output_type": "execute_result"
    }
   ],
   "source": [
    "get_recommendation(\"Kokoro ga Sakebitagatterunda.\")"
   ]
  },
  {
   "cell_type": "code",
   "execution_count": 36,
   "metadata": {
    "_uuid": "8478004a00d3580defc1d57a4ce9cea2e3d1e6b7"
   },
   "outputs": [
    {
     "data": {
      "text/html": [
       "<div>\n",
       "<style scoped>\n",
       "    .dataframe tbody tr th:only-of-type {\n",
       "        vertical-align: middle;\n",
       "    }\n",
       "\n",
       "    .dataframe tbody tr th {\n",
       "        vertical-align: top;\n",
       "    }\n",
       "\n",
       "    .dataframe thead th {\n",
       "        text-align: right;\n",
       "    }\n",
       "</style>\n",
       "<table border=\"1\" class=\"dataframe\">\n",
       "  <thead>\n",
       "    <tr style=\"text-align: right;\">\n",
       "      <th></th>\n",
       "      <th>name</th>\n",
       "      <th>genre</th>\n",
       "    </tr>\n",
       "  </thead>\n",
       "  <tbody>\n",
       "    <tr>\n",
       "      <td>615</td>\n",
       "      <td>Naruto: Shippuuden</td>\n",
       "      <td>Action, Comedy, Martial Arts, Shounen, Super P...</td>\n",
       "    </tr>\n",
       "    <tr>\n",
       "      <td>175</td>\n",
       "      <td>Katekyo Hitman Reborn!</td>\n",
       "      <td>Action, Comedy, Shounen, Super Power</td>\n",
       "    </tr>\n",
       "    <tr>\n",
       "      <td>206</td>\n",
       "      <td>Dragon Ball Z</td>\n",
       "      <td>Action, Adventure, Comedy, Fantasy, Martial Ar...</td>\n",
       "    </tr>\n",
       "    <tr>\n",
       "      <td>515</td>\n",
       "      <td>Dragon Ball Kai (2014)</td>\n",
       "      <td>Action, Adventure, Comedy, Fantasy, Martial Ar...</td>\n",
       "    </tr>\n",
       "    <tr>\n",
       "      <td>588</td>\n",
       "      <td>Dragon Ball Kai</td>\n",
       "      <td>Action, Adventure, Comedy, Fantasy, Martial Ar...</td>\n",
       "    </tr>\n",
       "    <tr>\n",
       "      <td>1209</td>\n",
       "      <td>Medaka Box Abnormal</td>\n",
       "      <td>Action, Comedy, Ecchi, Martial Arts, School, S...</td>\n",
       "    </tr>\n",
       "    <tr>\n",
       "      <td>1930</td>\n",
       "      <td>Dragon Ball Super</td>\n",
       "      <td>Action, Adventure, Comedy, Fantasy, Martial Ar...</td>\n",
       "    </tr>\n",
       "    <tr>\n",
       "      <td>2615</td>\n",
       "      <td>Medaka Box</td>\n",
       "      <td>Action, Comedy, Ecchi, Martial Arts, School, S...</td>\n",
       "    </tr>\n",
       "    <tr>\n",
       "      <td>3038</td>\n",
       "      <td>Tenjou Tenge</td>\n",
       "      <td>Action, Comedy, Ecchi, Martial Arts, School, S...</td>\n",
       "    </tr>\n",
       "    <tr>\n",
       "      <td>178</td>\n",
       "      <td>Boku no Hero Academia</td>\n",
       "      <td>Action, Comedy, School, Shounen, Super Power</td>\n",
       "    </tr>\n",
       "  </tbody>\n",
       "</table>\n",
       "</div>"
      ],
      "text/plain": [
       "                        name  \\\n",
       "615       Naruto: Shippuuden   \n",
       "175   Katekyo Hitman Reborn!   \n",
       "206            Dragon Ball Z   \n",
       "515   Dragon Ball Kai (2014)   \n",
       "588          Dragon Ball Kai   \n",
       "1209     Medaka Box Abnormal   \n",
       "1930       Dragon Ball Super   \n",
       "2615              Medaka Box   \n",
       "3038            Tenjou Tenge   \n",
       "178    Boku no Hero Academia   \n",
       "\n",
       "                                                  genre  \n",
       "615   Action, Comedy, Martial Arts, Shounen, Super P...  \n",
       "175                Action, Comedy, Shounen, Super Power  \n",
       "206   Action, Adventure, Comedy, Fantasy, Martial Ar...  \n",
       "515   Action, Adventure, Comedy, Fantasy, Martial Ar...  \n",
       "588   Action, Adventure, Comedy, Fantasy, Martial Ar...  \n",
       "1209  Action, Comedy, Ecchi, Martial Arts, School, S...  \n",
       "1930  Action, Adventure, Comedy, Fantasy, Martial Ar...  \n",
       "2615  Action, Comedy, Ecchi, Martial Arts, School, S...  \n",
       "3038  Action, Comedy, Ecchi, Martial Arts, School, S...  \n",
       "178        Action, Comedy, School, Shounen, Super Power  "
      ]
     },
     "execution_count": 36,
     "metadata": {},
     "output_type": "execute_result"
    }
   ],
   "source": [
    "get_recommendation(\"Naruto\")"
   ]
  },
  {
   "cell_type": "code",
   "execution_count": null,
   "metadata": {
    "_uuid": "2baf63c30cdfc96b154e380e1b78e564ce8339c6"
   },
   "outputs": [],
   "source": [
    "get_recommendation(\"Noragami\")"
   ]
  },
  {
   "cell_type": "code",
   "execution_count": null,
   "metadata": {
    "_uuid": "616500824449a26b60150168c8fed5f9a1effd1c"
   },
   "outputs": [],
   "source": [
    "get_recommendation(\"Plastic Memories\")"
   ]
  },
  {
   "cell_type": "code",
   "execution_count": null,
   "metadata": {
    "_uuid": "196bfa43c50ef0b2b9fe0345e6224349efa21cb4",
    "collapsed": true
   },
   "outputs": [],
   "source": []
  }
 ],
 "metadata": {
  "kernelspec": {
   "display_name": "Python 3",
   "language": "python",
   "name": "python3"
  },
  "language_info": {
   "codemirror_mode": {
    "name": "ipython",
    "version": 3
   },
   "file_extension": ".py",
   "mimetype": "text/x-python",
   "name": "python",
   "nbconvert_exporter": "python",
   "pygments_lexer": "ipython3",
   "version": "3.7.3"
  }
 },
 "nbformat": 4,
 "nbformat_minor": 2
}
