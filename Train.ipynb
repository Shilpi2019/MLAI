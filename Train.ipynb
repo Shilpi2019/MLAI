{
 "cells": [
  {
   "cell_type": "code",
   "execution_count": 146,
   "metadata": {},
   "outputs": [],
   "source": [
    "import pandas as pd"
   ]
  },
  {
   "cell_type": "code",
   "execution_count": 147,
   "metadata": {},
   "outputs": [],
   "source": [
    "import numpy as np\n",
    "from sklearn.model_selection import train_test_split\n",
    "from sklearn.linear_model import LinearRegression\n",
    "from sklearn.metrics import mean_squared_error,r2_score\n",
    "\n"
   ]
  },
  {
   "cell_type": "code",
   "execution_count": 148,
   "metadata": {},
   "outputs": [],
   "source": [
    "import matplotlib.pyplot as plt\n",
    "import seaborn as sns"
   ]
  },
  {
   "cell_type": "code",
   "execution_count": 149,
   "metadata": {},
   "outputs": [],
   "source": [
    "df=pd.read_csv(\"train.csv\")"
   ]
  },
  {
   "cell_type": "code",
   "execution_count": 150,
   "metadata": {},
   "outputs": [
    {
     "data": {
      "text/html": [
       "<div>\n",
       "<style scoped>\n",
       "    .dataframe tbody tr th:only-of-type {\n",
       "        vertical-align: middle;\n",
       "    }\n",
       "\n",
       "    .dataframe tbody tr th {\n",
       "        vertical-align: top;\n",
       "    }\n",
       "\n",
       "    .dataframe thead th {\n",
       "        text-align: right;\n",
       "    }\n",
       "</style>\n",
       "<table border=\"1\" class=\"dataframe\">\n",
       "  <thead>\n",
       "    <tr style=\"text-align: right;\">\n",
       "      <th></th>\n",
       "      <th>Id</th>\n",
       "      <th>MSSubClass</th>\n",
       "      <th>MSZoning</th>\n",
       "      <th>LotFrontage</th>\n",
       "      <th>LotArea</th>\n",
       "      <th>Street</th>\n",
       "      <th>Alley</th>\n",
       "      <th>LotShape</th>\n",
       "      <th>LandContour</th>\n",
       "      <th>Utilities</th>\n",
       "      <th>...</th>\n",
       "      <th>PoolArea</th>\n",
       "      <th>PoolQC</th>\n",
       "      <th>Fence</th>\n",
       "      <th>MiscFeature</th>\n",
       "      <th>MiscVal</th>\n",
       "      <th>MoSold</th>\n",
       "      <th>YrSold</th>\n",
       "      <th>SaleType</th>\n",
       "      <th>SaleCondition</th>\n",
       "      <th>SalePrice</th>\n",
       "    </tr>\n",
       "  </thead>\n",
       "  <tbody>\n",
       "    <tr>\n",
       "      <th>0</th>\n",
       "      <td>1</td>\n",
       "      <td>60</td>\n",
       "      <td>RL</td>\n",
       "      <td>65.0</td>\n",
       "      <td>8450</td>\n",
       "      <td>Pave</td>\n",
       "      <td>NaN</td>\n",
       "      <td>Reg</td>\n",
       "      <td>Lvl</td>\n",
       "      <td>AllPub</td>\n",
       "      <td>...</td>\n",
       "      <td>0</td>\n",
       "      <td>NaN</td>\n",
       "      <td>NaN</td>\n",
       "      <td>NaN</td>\n",
       "      <td>0</td>\n",
       "      <td>2</td>\n",
       "      <td>2008</td>\n",
       "      <td>WD</td>\n",
       "      <td>Normal</td>\n",
       "      <td>208500</td>\n",
       "    </tr>\n",
       "    <tr>\n",
       "      <th>1</th>\n",
       "      <td>2</td>\n",
       "      <td>20</td>\n",
       "      <td>RL</td>\n",
       "      <td>80.0</td>\n",
       "      <td>9600</td>\n",
       "      <td>Pave</td>\n",
       "      <td>NaN</td>\n",
       "      <td>Reg</td>\n",
       "      <td>Lvl</td>\n",
       "      <td>AllPub</td>\n",
       "      <td>...</td>\n",
       "      <td>0</td>\n",
       "      <td>NaN</td>\n",
       "      <td>NaN</td>\n",
       "      <td>NaN</td>\n",
       "      <td>0</td>\n",
       "      <td>5</td>\n",
       "      <td>2007</td>\n",
       "      <td>WD</td>\n",
       "      <td>Normal</td>\n",
       "      <td>181500</td>\n",
       "    </tr>\n",
       "  </tbody>\n",
       "</table>\n",
       "<p>2 rows × 81 columns</p>\n",
       "</div>"
      ],
      "text/plain": [
       "   Id  MSSubClass MSZoning  LotFrontage  LotArea Street Alley LotShape  \\\n",
       "0   1          60       RL         65.0     8450   Pave   NaN      Reg   \n",
       "1   2          20       RL         80.0     9600   Pave   NaN      Reg   \n",
       "\n",
       "  LandContour Utilities  ... PoolArea PoolQC Fence MiscFeature MiscVal MoSold  \\\n",
       "0         Lvl    AllPub  ...        0    NaN   NaN         NaN       0      2   \n",
       "1         Lvl    AllPub  ...        0    NaN   NaN         NaN       0      5   \n",
       "\n",
       "  YrSold  SaleType  SaleCondition  SalePrice  \n",
       "0   2008        WD         Normal     208500  \n",
       "1   2007        WD         Normal     181500  \n",
       "\n",
       "[2 rows x 81 columns]"
      ]
     },
     "execution_count": 150,
     "metadata": {},
     "output_type": "execute_result"
    }
   ],
   "source": [
    "df.head(2)"
   ]
  },
  {
   "cell_type": "code",
   "execution_count": 151,
   "metadata": {},
   "outputs": [
    {
     "data": {
      "text/plain": [
       "(1460, 81)"
      ]
     },
     "execution_count": 151,
     "metadata": {},
     "output_type": "execute_result"
    }
   ],
   "source": [
    "df.shape"
   ]
  },
  {
   "cell_type": "code",
   "execution_count": 152,
   "metadata": {},
   "outputs": [
    {
     "data": {
      "text/plain": [
       "PoolQC           1453\n",
       "MiscFeature      1406\n",
       "Alley            1369\n",
       "Fence            1179\n",
       "FireplaceQu       690\n",
       "LotFrontage       259\n",
       "GarageCond         81\n",
       "GarageType         81\n",
       "GarageYrBlt        81\n",
       "GarageFinish       81\n",
       "GarageQual         81\n",
       "BsmtExposure       38\n",
       "BsmtFinType2       38\n",
       "BsmtFinType1       37\n",
       "BsmtCond           37\n",
       "BsmtQual           37\n",
       "MasVnrArea          8\n",
       "MasVnrType          8\n",
       "Electrical          1\n",
       "Utilities           0\n",
       "YearRemodAdd        0\n",
       "MSSubClass          0\n",
       "Foundation          0\n",
       "ExterCond           0\n",
       "ExterQual           0\n",
       "Exterior2nd         0\n",
       "Exterior1st         0\n",
       "RoofMatl            0\n",
       "RoofStyle           0\n",
       "YearBuilt           0\n",
       "                 ... \n",
       "GarageArea          0\n",
       "PavedDrive          0\n",
       "WoodDeckSF          0\n",
       "OpenPorchSF         0\n",
       "3SsnPorch           0\n",
       "BsmtUnfSF           0\n",
       "ScreenPorch         0\n",
       "PoolArea            0\n",
       "MiscVal             0\n",
       "MoSold              0\n",
       "YrSold              0\n",
       "SaleType            0\n",
       "Functional          0\n",
       "TotRmsAbvGrd        0\n",
       "KitchenQual         0\n",
       "KitchenAbvGr        0\n",
       "BedroomAbvGr        0\n",
       "HalfBath            0\n",
       "FullBath            0\n",
       "BsmtHalfBath        0\n",
       "BsmtFullBath        0\n",
       "GrLivArea           0\n",
       "LowQualFinSF        0\n",
       "2ndFlrSF            0\n",
       "1stFlrSF            0\n",
       "CentralAir          0\n",
       "SaleCondition       0\n",
       "Heating             0\n",
       "TotalBsmtSF         0\n",
       "Id                  0\n",
       "Length: 81, dtype: int64"
      ]
     },
     "execution_count": 152,
     "metadata": {},
     "output_type": "execute_result"
    }
   ],
   "source": [
    "# Check how many columns have null values\n",
    "df.isna().sum(axis=0).sort_values(ascending=False)"
   ]
  },
  {
   "cell_type": "code",
   "execution_count": 153,
   "metadata": {},
   "outputs": [],
   "source": [
    "#dropping the columns whch have more than 80% null data.\n",
    "df.drop(['Id','PoolQC','Fence','MiscFeature','Alley'],axis=1,inplace=True) "
   ]
  },
  {
   "cell_type": "code",
   "execution_count": 154,
   "metadata": {},
   "outputs": [
    {
     "data": {
      "text/plain": [
       "(1460, 76)"
      ]
     },
     "execution_count": 154,
     "metadata": {},
     "output_type": "execute_result"
    }
   ],
   "source": [
    "df.shape"
   ]
  },
  {
   "cell_type": "code",
   "execution_count": 155,
   "metadata": {},
   "outputs": [
    {
     "data": {
      "text/plain": [
       "CentralAir          2\n",
       "Street              2\n",
       "Utilities           2\n",
       "HalfBath            3\n",
       "PavedDrive          3\n",
       "BsmtHalfBath        3\n",
       "LandSlope           3\n",
       "GarageFinish        3\n",
       "Fireplaces          4\n",
       "LotShape            4\n",
       "BsmtExposure        4\n",
       "BsmtFullBath        4\n",
       "KitchenAbvGr        4\n",
       "BsmtCond            4\n",
       "KitchenQual         4\n",
       "BsmtQual            4\n",
       "FullBath            4\n",
       "ExterQual           4\n",
       "LandContour         4\n",
       "MasVnrType          4\n",
       "FireplaceQu         5\n",
       "ExterCond           5\n",
       "MSZoning            5\n",
       "LotConfig           5\n",
       "GarageCond          5\n",
       "HeatingQC           5\n",
       "Electrical          5\n",
       "BldgType            5\n",
       "YrSold              5\n",
       "GarageQual          5\n",
       "                 ... \n",
       "SaleType            9\n",
       "OverallQual        10\n",
       "TotRmsAbvGrd       12\n",
       "MoSold             12\n",
       "MSSubClass         15\n",
       "Exterior1st        15\n",
       "Exterior2nd        16\n",
       "3SsnPorch          20\n",
       "MiscVal            21\n",
       "LowQualFinSF       24\n",
       "Neighborhood       25\n",
       "YearRemodAdd       61\n",
       "ScreenPorch        76\n",
       "GarageYrBlt        97\n",
       "LotFrontage       110\n",
       "YearBuilt         112\n",
       "EnclosedPorch     120\n",
       "BsmtFinSF2        144\n",
       "OpenPorchSF       202\n",
       "WoodDeckSF        274\n",
       "MasVnrArea        327\n",
       "2ndFlrSF          417\n",
       "GarageArea        441\n",
       "BsmtFinSF1        637\n",
       "SalePrice         663\n",
       "TotalBsmtSF       721\n",
       "1stFlrSF          753\n",
       "BsmtUnfSF         780\n",
       "GrLivArea         861\n",
       "LotArea          1073\n",
       "Length: 76, dtype: int64"
      ]
     },
     "execution_count": 155,
     "metadata": {},
     "output_type": "execute_result"
    }
   ],
   "source": [
    "# Check for columns with unique values. If a column has all values as same we can drop that column\n",
    "df.nunique().sort_values(ascending=True)"
   ]
  },
  {
   "cell_type": "code",
   "execution_count": 156,
   "metadata": {},
   "outputs": [
    {
     "data": {
      "text/plain": [
       "YearBuilt     OverallQual     0.572323\n",
       "YearRemodAdd  OverallQual     0.550684\n",
       "              YearBuilt       0.592855\n",
       "1stFlrSF      TotalBsmtSF     0.819530\n",
       "GrLivArea     OverallQual     0.593007\n",
       "              1stFlrSF        0.566024\n",
       "              2ndFlrSF        0.687501\n",
       "BsmtFullBath  BsmtFinSF1      0.649212\n",
       "FullBath      OverallQual     0.550600\n",
       "              GrLivArea       0.630012\n",
       "HalfBath      2ndFlrSF        0.609707\n",
       "TotRmsAbvGrd  2ndFlrSF        0.616423\n",
       "              GrLivArea       0.825489\n",
       "              FullBath        0.554784\n",
       "              BedroomAbvGr    0.676620\n",
       "GarageYrBlt   YearBuilt       0.825667\n",
       "              YearRemodAdd    0.642277\n",
       "GarageCars    OverallQual     0.600671\n",
       "              GarageYrBlt     0.588920\n",
       "GarageArea    OverallQual     0.562022\n",
       "              GarageYrBlt     0.564567\n",
       "              GarageCars      0.882475\n",
       "SalePrice     OverallQual     0.790982\n",
       "              TotalBsmtSF     0.613581\n",
       "              1stFlrSF        0.605852\n",
       "              GrLivArea       0.708624\n",
       "              FullBath        0.560664\n",
       "              GarageCars      0.640409\n",
       "              GarageArea      0.623431\n",
       "dtype: float64"
      ]
     },
     "execution_count": 156,
     "metadata": {},
     "output_type": "execute_result"
    }
   ],
   "source": [
    "# Checking for highly correlated columns\n",
    "cor = df.corr()\n",
    "cor.loc[:,:] = np.tril(cor, k=-1)\n",
    "cor = cor.stack()\n",
    "cor[(cor > 0.55) | (cor < -0.55)]"
   ]
  },
  {
   "cell_type": "code",
   "execution_count": 157,
   "metadata": {},
   "outputs": [],
   "source": [
    "# Dropping the highly correlated columns to avoid reduntant checks\n",
    "df.drop(['TotalBsmtSF','GarageYrBlt','OverallQual'],axis=1,inplace=True) "
   ]
  },
  {
   "cell_type": "code",
   "execution_count": 158,
   "metadata": {},
   "outputs": [
    {
     "data": {
      "text/plain": [
       "(1460, 73)"
      ]
     },
     "execution_count": 158,
     "metadata": {},
     "output_type": "execute_result"
    }
   ],
   "source": [
    "df.shape"
   ]
  },
  {
   "cell_type": "code",
   "execution_count": 159,
   "metadata": {},
   "outputs": [],
   "source": [
    "df['Sale Price Range']=pd.cut(df['SalePrice'],[30000,90000,270000,450000,650000,800000,],\n",
    "                              labels=['Very Low Cost','Low Cost','Medium Cost','High Cost','Very High Cost'],right=True)"
   ]
  },
  {
   "cell_type": "code",
   "execution_count": 160,
   "metadata": {},
   "outputs": [
    {
     "name": "stdout",
     "output_type": "stream",
     "text": [
      "34900\n",
      "755000\n"
     ]
    }
   ],
   "source": [
    "print(df['SalePrice'].min())\n",
    "print(df['SalePrice'].max())"
   ]
  },
  {
   "cell_type": "code",
   "execution_count": 161,
   "metadata": {},
   "outputs": [
    {
     "data": {
      "text/plain": [
       "<matplotlib.axes._subplots.AxesSubplot at 0x246d0c62438>"
      ]
     },
     "execution_count": 161,
     "metadata": {},
     "output_type": "execute_result"
    },
    {
     "data": {
      "image/png": "[encoded data removed]",
      "text/plain": [
       "<Figure size 432x288 with 1 Axes>"
      ]
     },
     "metadata": {
      "needs_background": "light"
     },
     "output_type": "display_data"
    }
   ],
   "source": [
    "df['Sale Price Range'].value_counts().plot(kind='bar',grid=True)"
   ]
  },
  {
   "cell_type": "code",
   "execution_count": 162,
   "metadata": {},
   "outputs": [
    {
     "data": {
      "text/plain": [
       "<matplotlib.axes._subplots.AxesSubplot at 0x246d0cf3518>"
      ]
     },
     "execution_count": 162,
     "metadata": {},
     "output_type": "execute_result"
    },
    {
     "data": {
      "image/png": "[encoded data removed]",
      "text/plain": [
       "<Figure size 432x288 with 1 Axes>"
      ]
     },
     "metadata": {
      "needs_background": "light"
     },
     "output_type": "display_data"
    }
   ],
   "source": [
    "df.groupby(['LotShape'])['SalePrice'].mean().plot(kind='bar')"
   ]
  },
  {
   "cell_type": "code",
   "execution_count": 163,
   "metadata": {},
   "outputs": [
    {
     "data": {
      "text/plain": [
       "<matplotlib.axes._subplots.AxesSubplot at 0x246d0952f28>"
      ]
     },
     "execution_count": 163,
     "metadata": {},
     "output_type": "execute_result"
    },
    {
     "data": {
      "image/png": "[encoded data removed]",
      "text/plain": [
       "<Figure size 432x288 with 1 Axes>"
      ]
     },
     "metadata": {
      "needs_background": "light"
     },
     "output_type": "display_data"
    }
   ],
   "source": [
    "df.groupby(['Street'])['SalePrice'].mean().plot(kind='bar')"
   ]
  },
  {
   "cell_type": "code",
   "execution_count": null,
   "metadata": {},
   "outputs": [],
   "source": []
  },
  {
   "cell_type": "code",
   "execution_count": 164,
   "metadata": {},
   "outputs": [
    {
     "name": "stdout",
     "output_type": "stream",
     "text": [
      "<class 'pandas.core.frame.DataFrame'>\n",
      "RangeIndex: 1460 entries, 0 to 1459\n",
      "Data columns (total 74 columns):\n",
      "MSSubClass          1460 non-null int64\n",
      "MSZoning            1460 non-null object\n",
      "LotFrontage         1201 non-null float64\n",
      "LotArea             1460 non-null int64\n",
      "Street              1460 non-null object\n",
      "LotShape            1460 non-null object\n",
      "LandContour         1460 non-null object\n",
      "Utilities           1460 non-null object\n",
      "LotConfig           1460 non-null object\n",
      "LandSlope           1460 non-null object\n",
      "Neighborhood        1460 non-null object\n",
      "Condition1          1460 non-null object\n",
      "Condition2          1460 non-null object\n",
      "BldgType            1460 non-null object\n",
      "HouseStyle          1460 non-null object\n",
      "OverallCond         1460 non-null int64\n",
      "YearBuilt           1460 non-null int64\n",
      "YearRemodAdd        1460 non-null int64\n",
      "RoofStyle           1460 non-null object\n",
      "RoofMatl            1460 non-null object\n",
      "Exterior1st         1460 non-null object\n",
      "Exterior2nd         1460 non-null object\n",
      "MasVnrType          1452 non-null object\n",
      "MasVnrArea          1452 non-null float64\n",
      "ExterQual           1460 non-null object\n",
      "ExterCond           1460 non-null object\n",
      "Foundation          1460 non-null object\n",
      "BsmtQual            1423 non-null object\n",
      "BsmtCond            1423 non-null object\n",
      "BsmtExposure        1422 non-null object\n",
      "BsmtFinType1        1423 non-null object\n",
      "BsmtFinSF1          1460 non-null int64\n",
      "BsmtFinType2        1422 non-null object\n",
      "BsmtFinSF2          1460 non-null int64\n",
      "BsmtUnfSF           1460 non-null int64\n",
      "Heating             1460 non-null object\n",
      "HeatingQC           1460 non-null object\n",
      "CentralAir          1460 non-null object\n",
      "Electrical          1459 non-null object\n",
      "1stFlrSF            1460 non-null int64\n",
      "2ndFlrSF            1460 non-null int64\n",
      "LowQualFinSF        1460 non-null int64\n",
      "GrLivArea           1460 non-null int64\n",
      "BsmtFullBath        1460 non-null int64\n",
      "BsmtHalfBath        1460 non-null int64\n",
      "FullBath            1460 non-null int64\n",
      "HalfBath            1460 non-null int64\n",
      "BedroomAbvGr        1460 non-null int64\n",
      "KitchenAbvGr        1460 non-null int64\n",
      "KitchenQual         1460 non-null object\n",
      "TotRmsAbvGrd        1460 non-null int64\n",
      "Functional          1460 non-null object\n",
      "Fireplaces          1460 non-null int64\n",
      "FireplaceQu         770 non-null object\n",
      "GarageType          1379 non-null object\n",
      "GarageFinish        1379 non-null object\n",
      "GarageCars          1460 non-null int64\n",
      "GarageArea          1460 non-null int64\n",
      "GarageQual          1379 non-null object\n",
      "GarageCond          1379 non-null object\n",
      "PavedDrive          1460 non-null object\n",
      "WoodDeckSF          1460 non-null int64\n",
      "OpenPorchSF         1460 non-null int64\n",
      "EnclosedPorch       1460 non-null int64\n",
      "3SsnPorch           1460 non-null int64\n",
      "ScreenPorch         1460 non-null int64\n",
      "PoolArea            1460 non-null int64\n",
      "MiscVal             1460 non-null int64\n",
      "MoSold              1460 non-null int64\n",
      "YrSold              1460 non-null int64\n",
      "SaleType            1460 non-null object\n",
      "SaleCondition       1460 non-null object\n",
      "SalePrice           1460 non-null int64\n",
      "Sale Price Range    1460 non-null category\n",
      "dtypes: category(1), float64(2), int64(32), object(39)\n",
      "memory usage: 834.4+ KB\n"
     ]
    }
   ],
   "source": [
    "df.info()"
   ]
  },
  {
   "cell_type": "code",
   "execution_count": 165,
   "metadata": {},
   "outputs": [
    {
     "data": {
      "text/html": [
       "<div>\n",
       "<style scoped>\n",
       "    .dataframe tbody tr th:only-of-type {\n",
       "        vertical-align: middle;\n",
       "    }\n",
       "\n",
       "    .dataframe tbody tr th {\n",
       "        vertical-align: top;\n",
       "    }\n",
       "\n",
       "    .dataframe thead th {\n",
       "        text-align: right;\n",
       "    }\n",
       "</style>\n",
       "<table border=\"1\" class=\"dataframe\">\n",
       "  <thead>\n",
       "    <tr style=\"text-align: right;\">\n",
       "      <th></th>\n",
       "      <th>MSSubClass</th>\n",
       "      <th>MSZoning</th>\n",
       "      <th>LotFrontage</th>\n",
       "      <th>LotArea</th>\n",
       "      <th>Street</th>\n",
       "      <th>LotShape</th>\n",
       "      <th>LandContour</th>\n",
       "      <th>Utilities</th>\n",
       "      <th>LotConfig</th>\n",
       "      <th>LandSlope</th>\n",
       "      <th>...</th>\n",
       "      <th>3SsnPorch</th>\n",
       "      <th>ScreenPorch</th>\n",
       "      <th>PoolArea</th>\n",
       "      <th>MiscVal</th>\n",
       "      <th>MoSold</th>\n",
       "      <th>YrSold</th>\n",
       "      <th>SaleType</th>\n",
       "      <th>SaleCondition</th>\n",
       "      <th>SalePrice</th>\n",
       "      <th>Sale Price Range</th>\n",
       "    </tr>\n",
       "  </thead>\n",
       "  <tbody>\n",
       "    <tr>\n",
       "      <th>0</th>\n",
       "      <td>60</td>\n",
       "      <td>RL</td>\n",
       "      <td>65.0</td>\n",
       "      <td>8450</td>\n",
       "      <td>Pave</td>\n",
       "      <td>Reg</td>\n",
       "      <td>Lvl</td>\n",
       "      <td>AllPub</td>\n",
       "      <td>Inside</td>\n",
       "      <td>Gtl</td>\n",
       "      <td>...</td>\n",
       "      <td>0</td>\n",
       "      <td>0</td>\n",
       "      <td>0</td>\n",
       "      <td>0</td>\n",
       "      <td>2</td>\n",
       "      <td>2008</td>\n",
       "      <td>WD</td>\n",
       "      <td>Normal</td>\n",
       "      <td>208500</td>\n",
       "      <td>Low Cost</td>\n",
       "    </tr>\n",
       "    <tr>\n",
       "      <th>1</th>\n",
       "      <td>20</td>\n",
       "      <td>RL</td>\n",
       "      <td>80.0</td>\n",
       "      <td>9600</td>\n",
       "      <td>Pave</td>\n",
       "      <td>Reg</td>\n",
       "      <td>Lvl</td>\n",
       "      <td>AllPub</td>\n",
       "      <td>FR2</td>\n",
       "      <td>Gtl</td>\n",
       "      <td>...</td>\n",
       "      <td>0</td>\n",
       "      <td>0</td>\n",
       "      <td>0</td>\n",
       "      <td>0</td>\n",
       "      <td>5</td>\n",
       "      <td>2007</td>\n",
       "      <td>WD</td>\n",
       "      <td>Normal</td>\n",
       "      <td>181500</td>\n",
       "      <td>Low Cost</td>\n",
       "    </tr>\n",
       "    <tr>\n",
       "      <th>2</th>\n",
       "      <td>60</td>\n",
       "      <td>RL</td>\n",
       "      <td>68.0</td>\n",
       "      <td>11250</td>\n",
       "      <td>Pave</td>\n",
       "      <td>IR1</td>\n",
       "      <td>Lvl</td>\n",
       "      <td>AllPub</td>\n",
       "      <td>Inside</td>\n",
       "      <td>Gtl</td>\n",
       "      <td>...</td>\n",
       "      <td>0</td>\n",
       "      <td>0</td>\n",
       "      <td>0</td>\n",
       "      <td>0</td>\n",
       "      <td>9</td>\n",
       "      <td>2008</td>\n",
       "      <td>WD</td>\n",
       "      <td>Normal</td>\n",
       "      <td>223500</td>\n",
       "      <td>Low Cost</td>\n",
       "    </tr>\n",
       "    <tr>\n",
       "      <th>3</th>\n",
       "      <td>70</td>\n",
       "      <td>RL</td>\n",
       "      <td>60.0</td>\n",
       "      <td>9550</td>\n",
       "      <td>Pave</td>\n",
       "      <td>IR1</td>\n",
       "      <td>Lvl</td>\n",
       "      <td>AllPub</td>\n",
       "      <td>Corner</td>\n",
       "      <td>Gtl</td>\n",
       "      <td>...</td>\n",
       "      <td>0</td>\n",
       "      <td>0</td>\n",
       "      <td>0</td>\n",
       "      <td>0</td>\n",
       "      <td>2</td>\n",
       "      <td>2006</td>\n",
       "      <td>WD</td>\n",
       "      <td>Abnorml</td>\n",
       "      <td>140000</td>\n",
       "      <td>Low Cost</td>\n",
       "    </tr>\n",
       "    <tr>\n",
       "      <th>4</th>\n",
       "      <td>60</td>\n",
       "      <td>RL</td>\n",
       "      <td>84.0</td>\n",
       "      <td>14260</td>\n",
       "      <td>Pave</td>\n",
       "      <td>IR1</td>\n",
       "      <td>Lvl</td>\n",
       "      <td>AllPub</td>\n",
       "      <td>FR2</td>\n",
       "      <td>Gtl</td>\n",
       "      <td>...</td>\n",
       "      <td>0</td>\n",
       "      <td>0</td>\n",
       "      <td>0</td>\n",
       "      <td>0</td>\n",
       "      <td>12</td>\n",
       "      <td>2008</td>\n",
       "      <td>WD</td>\n",
       "      <td>Normal</td>\n",
       "      <td>250000</td>\n",
       "      <td>Low Cost</td>\n",
       "    </tr>\n",
       "    <tr>\n",
       "      <th>5</th>\n",
       "      <td>50</td>\n",
       "      <td>RL</td>\n",
       "      <td>85.0</td>\n",
       "      <td>14115</td>\n",
       "      <td>Pave</td>\n",
       "      <td>IR1</td>\n",
       "      <td>Lvl</td>\n",
       "      <td>AllPub</td>\n",
       "      <td>Inside</td>\n",
       "      <td>Gtl</td>\n",
       "      <td>...</td>\n",
       "      <td>320</td>\n",
       "      <td>0</td>\n",
       "      <td>0</td>\n",
       "      <td>700</td>\n",
       "      <td>10</td>\n",
       "      <td>2009</td>\n",
       "      <td>WD</td>\n",
       "      <td>Normal</td>\n",
       "      <td>143000</td>\n",
       "      <td>Low Cost</td>\n",
       "    </tr>\n",
       "    <tr>\n",
       "      <th>6</th>\n",
       "      <td>20</td>\n",
       "      <td>RL</td>\n",
       "      <td>75.0</td>\n",
       "      <td>10084</td>\n",
       "      <td>Pave</td>\n",
       "      <td>Reg</td>\n",
       "      <td>Lvl</td>\n",
       "      <td>AllPub</td>\n",
       "      <td>Inside</td>\n",
       "      <td>Gtl</td>\n",
       "      <td>...</td>\n",
       "      <td>0</td>\n",
       "      <td>0</td>\n",
       "      <td>0</td>\n",
       "      <td>0</td>\n",
       "      <td>8</td>\n",
       "      <td>2007</td>\n",
       "      <td>WD</td>\n",
       "      <td>Normal</td>\n",
       "      <td>307000</td>\n",
       "      <td>Medium Cost</td>\n",
       "    </tr>\n",
       "    <tr>\n",
       "      <th>7</th>\n",
       "      <td>60</td>\n",
       "      <td>RL</td>\n",
       "      <td>NaN</td>\n",
       "      <td>10382</td>\n",
       "      <td>Pave</td>\n",
       "      <td>IR1</td>\n",
       "      <td>Lvl</td>\n",
       "      <td>AllPub</td>\n",
       "      <td>Corner</td>\n",
       "      <td>Gtl</td>\n",
       "      <td>...</td>\n",
       "      <td>0</td>\n",
       "      <td>0</td>\n",
       "      <td>0</td>\n",
       "      <td>350</td>\n",
       "      <td>11</td>\n",
       "      <td>2009</td>\n",
       "      <td>WD</td>\n",
       "      <td>Normal</td>\n",
       "      <td>200000</td>\n",
       "      <td>Low Cost</td>\n",
       "    </tr>\n",
       "    <tr>\n",
       "      <th>8</th>\n",
       "      <td>50</td>\n",
       "      <td>RM</td>\n",
       "      <td>51.0</td>\n",
       "      <td>6120</td>\n",
       "      <td>Pave</td>\n",
       "      <td>Reg</td>\n",
       "      <td>Lvl</td>\n",
       "      <td>AllPub</td>\n",
       "      <td>Inside</td>\n",
       "      <td>Gtl</td>\n",
       "      <td>...</td>\n",
       "      <td>0</td>\n",
       "      <td>0</td>\n",
       "      <td>0</td>\n",
       "      <td>0</td>\n",
       "      <td>4</td>\n",
       "      <td>2008</td>\n",
       "      <td>WD</td>\n",
       "      <td>Abnorml</td>\n",
       "      <td>129900</td>\n",
       "      <td>Low Cost</td>\n",
       "    </tr>\n",
       "    <tr>\n",
       "      <th>9</th>\n",
       "      <td>190</td>\n",
       "      <td>RL</td>\n",
       "      <td>50.0</td>\n",
       "      <td>7420</td>\n",
       "      <td>Pave</td>\n",
       "      <td>Reg</td>\n",
       "      <td>Lvl</td>\n",
       "      <td>AllPub</td>\n",
       "      <td>Corner</td>\n",
       "      <td>Gtl</td>\n",
       "      <td>...</td>\n",
       "      <td>0</td>\n",
       "      <td>0</td>\n",
       "      <td>0</td>\n",
       "      <td>0</td>\n",
       "      <td>1</td>\n",
       "      <td>2008</td>\n",
       "      <td>WD</td>\n",
       "      <td>Normal</td>\n",
       "      <td>118000</td>\n",
       "      <td>Low Cost</td>\n",
       "    </tr>\n",
       "  </tbody>\n",
       "</table>\n",
       "<p>10 rows × 74 columns</p>\n",
       "</div>"
      ],
      "text/plain": [
       "   MSSubClass MSZoning  LotFrontage  LotArea Street LotShape LandContour  \\\n",
       "0          60       RL         65.0     8450   Pave      Reg         Lvl   \n",
       "1          20       RL         80.0     9600   Pave      Reg         Lvl   \n",
       "2          60       RL         68.0    11250   Pave      IR1         Lvl   \n",
       "3          70       RL         60.0     9550   Pave      IR1         Lvl   \n",
       "4          60       RL         84.0    14260   Pave      IR1         Lvl   \n",
       "5          50       RL         85.0    14115   Pave      IR1         Lvl   \n",
       "6          20       RL         75.0    10084   Pave      Reg         Lvl   \n",
       "7          60       RL          NaN    10382   Pave      IR1         Lvl   \n",
       "8          50       RM         51.0     6120   Pave      Reg         Lvl   \n",
       "9         190       RL         50.0     7420   Pave      Reg         Lvl   \n",
       "\n",
       "  Utilities LotConfig LandSlope  ... 3SsnPorch ScreenPorch PoolArea MiscVal  \\\n",
       "0    AllPub    Inside       Gtl  ...         0           0        0       0   \n",
       "1    AllPub       FR2       Gtl  ...         0           0        0       0   \n",
       "2    AllPub    Inside       Gtl  ...         0           0        0       0   \n",
       "3    AllPub    Corner       Gtl  ...         0           0        0       0   \n",
       "4    AllPub       FR2       Gtl  ...         0           0        0       0   \n",
       "5    AllPub    Inside       Gtl  ...       320           0        0     700   \n",
       "6    AllPub    Inside       Gtl  ...         0           0        0       0   \n",
       "7    AllPub    Corner       Gtl  ...         0           0        0     350   \n",
       "8    AllPub    Inside       Gtl  ...         0           0        0       0   \n",
       "9    AllPub    Corner       Gtl  ...         0           0        0       0   \n",
       "\n",
       "  MoSold  YrSold  SaleType  SaleCondition SalePrice Sale Price Range  \n",
       "0      2    2008        WD         Normal    208500         Low Cost  \n",
       "1      5    2007        WD         Normal    181500         Low Cost  \n",
       "2      9    2008        WD         Normal    223500         Low Cost  \n",
       "3      2    2006        WD        Abnorml    140000         Low Cost  \n",
       "4     12    2008        WD         Normal    250000         Low Cost  \n",
       "5     10    2009        WD         Normal    143000         Low Cost  \n",
       "6      8    2007        WD         Normal    307000      Medium Cost  \n",
       "7     11    2009        WD         Normal    200000         Low Cost  \n",
       "8      4    2008        WD        Abnorml    129900         Low Cost  \n",
       "9      1    2008        WD         Normal    118000         Low Cost  \n",
       "\n",
       "[10 rows x 74 columns]"
      ]
     },
     "execution_count": 165,
     "metadata": {},
     "output_type": "execute_result"
    }
   ],
   "source": [
    "df.head(10)"
   ]
  },
  {
   "cell_type": "code",
   "execution_count": 166,
   "metadata": {},
   "outputs": [
    {
     "data": {
      "text/plain": [
       "FireplaceQu      690\n",
       "LotFrontage      259\n",
       "GarageCond        81\n",
       "GarageType        81\n",
       "GarageFinish      81\n",
       "GarageQual        81\n",
       "BsmtExposure      38\n",
       "BsmtFinType2      38\n",
       "BsmtFinType1      37\n",
       "BsmtCond          37\n",
       "BsmtQual          37\n",
       "MasVnrArea         8\n",
       "MasVnrType         8\n",
       "Electrical         1\n",
       "Utilities          0\n",
       "LotConfig          0\n",
       "BsmtFinSF1         0\n",
       "MSZoning           0\n",
       "Foundation         0\n",
       "ExterCond          0\n",
       "ExterQual          0\n",
       "Exterior2nd        0\n",
       "Exterior1st        0\n",
       "RoofMatl           0\n",
       "RoofStyle          0\n",
       "YearRemodAdd       0\n",
       "YearBuilt          0\n",
       "OverallCond        0\n",
       "BsmtFinSF2         0\n",
       "LotArea            0\n",
       "                ... \n",
       "SaleType           0\n",
       "YrSold             0\n",
       "MoSold             0\n",
       "MiscVal            0\n",
       "PoolArea           0\n",
       "ScreenPorch        0\n",
       "3SsnPorch          0\n",
       "EnclosedPorch      0\n",
       "OpenPorchSF        0\n",
       "WoodDeckSF         0\n",
       "PavedDrive         0\n",
       "GarageArea         0\n",
       "GarageCars         0\n",
       "Functional         0\n",
       "Heating            0\n",
       "TotRmsAbvGrd       0\n",
       "KitchenQual        0\n",
       "KitchenAbvGr       0\n",
       "BedroomAbvGr       0\n",
       "HalfBath           0\n",
       "FullBath           0\n",
       "BsmtHalfBath       0\n",
       "BsmtFullBath       0\n",
       "GrLivArea          0\n",
       "LowQualFinSF       0\n",
       "2ndFlrSF           0\n",
       "1stFlrSF           0\n",
       "CentralAir         0\n",
       "SalePrice          0\n",
       "MSSubClass         0\n",
       "Length: 74, dtype: int64"
      ]
     },
     "execution_count": 166,
     "metadata": {},
     "output_type": "execute_result"
    }
   ],
   "source": [
    "\n",
    "df.isna().sum(axis=0).sort_values(ascending=False)"
   ]
  },
  {
   "cell_type": "code",
   "execution_count": 167,
   "metadata": {},
   "outputs": [],
   "source": [
    "#imputing the NA value of Catagorical Column with the appropriate value\n",
    "df['FireplaceQu'] = df['FireplaceQu'].fillna(value='Not Alloted')"
   ]
  },
  {
   "cell_type": "code",
   "execution_count": 168,
   "metadata": {},
   "outputs": [],
   "source": [
    "#imputing the NA value of Column with the median as there are outliers.\n",
    "df['LotFrontage'] =df['LotFrontage'].fillna(value=df['LotFrontage'].median())"
   ]
  },
  {
   "cell_type": "code",
   "execution_count": 169,
   "metadata": {},
   "outputs": [],
   "source": [
    "#imputing the NA value of Catagorical Column with the appropriate value\n",
    "df['GarageType'] = df['GarageType'].fillna(value='Not Alloted')"
   ]
  },
  {
   "cell_type": "code",
   "execution_count": 170,
   "metadata": {},
   "outputs": [],
   "source": [
    "#imputing the NA value of Catagorical Column with the appropriate value\n",
    "df['GarageQual'] = df['GarageQual'].fillna(value='Not Alloted')"
   ]
  },
  {
   "cell_type": "code",
   "execution_count": 171,
   "metadata": {},
   "outputs": [],
   "source": [
    "#imputing the NA value of Catagorical Column with the appropriate value\n",
    "df['GarageCond'] = df['GarageCond'].fillna(value='Not Alloted')"
   ]
  },
  {
   "cell_type": "code",
   "execution_count": 172,
   "metadata": {},
   "outputs": [],
   "source": [
    "#imputing the NA value of Catagorical Column with the appropriate value\n",
    "df['GarageFinish'] = df['GarageFinish'].fillna(value='Not Alloted')"
   ]
  },
  {
   "cell_type": "code",
   "execution_count": 173,
   "metadata": {},
   "outputs": [],
   "source": [
    "#imputing the NA value of Catagorical Column with the appropriate value\n",
    "df['BsmtFinType2'] = df['BsmtFinType2'].fillna(value='Not Alloted')"
   ]
  },
  {
   "cell_type": "code",
   "execution_count": 174,
   "metadata": {},
   "outputs": [],
   "source": [
    "#imputing the NA value of Catagorical Column with the appropriate value\n",
    "df['BsmtExposure'] = df['BsmtExposure'].fillna(value='Not Alloted')"
   ]
  },
  {
   "cell_type": "code",
   "execution_count": 175,
   "metadata": {},
   "outputs": [],
   "source": [
    "#imputing the NA value of Catagorical Column with the appropriate value\n",
    "df['BsmtQual'] = df['BsmtQual'].fillna(value='Not Alloted')"
   ]
  },
  {
   "cell_type": "code",
   "execution_count": 176,
   "metadata": {},
   "outputs": [],
   "source": [
    "#imputing the NA value of Catagorical Column with the appropriate value\n",
    "df['BsmtFinType1'] = df['BsmtFinType1'].fillna(value='Not Alloted')"
   ]
  },
  {
   "cell_type": "code",
   "execution_count": 177,
   "metadata": {},
   "outputs": [],
   "source": [
    "#imputing the NA value of Catagorical Column with the appropriate value\n",
    "df['BsmtCond'] = df['BsmtCond'].fillna(value='Not Alloted')"
   ]
  },
  {
   "cell_type": "code",
   "execution_count": 178,
   "metadata": {},
   "outputs": [],
   "source": [
    "#imputing the NA value of Catagorical Column with the appropriate value\n",
    "df['MasVnrType'] = df['MasVnrType'].fillna(value='None')"
   ]
  },
  {
   "cell_type": "code",
   "execution_count": 179,
   "metadata": {},
   "outputs": [],
   "source": [
    "#imputing the NA value of Catagorical Column with the appropriate value\n",
    "df['MasVnrArea'] = df['MasVnrArea'].fillna(value='0')"
   ]
  },
  {
   "cell_type": "code",
   "execution_count": 180,
   "metadata": {},
   "outputs": [],
   "source": [
    "#imputing the NA value of Catagorical Column with the value used the most\n",
    "df['Electrical'] = df['Electrical'].fillna(value='SBrkr')"
   ]
  },
  {
   "cell_type": "code",
   "execution_count": 181,
   "metadata": {},
   "outputs": [
    {
     "data": {
      "text/plain": [
       "Sale Price Range    0\n",
       "RoofStyle           0\n",
       "Exterior1st         0\n",
       "Exterior2nd         0\n",
       "MasVnrType          0\n",
       "MasVnrArea          0\n",
       "ExterQual           0\n",
       "ExterCond           0\n",
       "Foundation          0\n",
       "BsmtQual            0\n",
       "BsmtCond            0\n",
       "BsmtExposure        0\n",
       "BsmtFinType1        0\n",
       "BsmtFinSF1          0\n",
       "BsmtFinType2        0\n",
       "BsmtFinSF2          0\n",
       "BsmtUnfSF           0\n",
       "RoofMatl            0\n",
       "YearRemodAdd        0\n",
       "SalePrice           0\n",
       "YearBuilt           0\n",
       "MSZoning            0\n",
       "LotFrontage         0\n",
       "LotArea             0\n",
       "Street              0\n",
       "LotShape            0\n",
       "LandContour         0\n",
       "Utilities           0\n",
       "LotConfig           0\n",
       "LandSlope           0\n",
       "                   ..\n",
       "WoodDeckSF          0\n",
       "OpenPorchSF         0\n",
       "EnclosedPorch       0\n",
       "3SsnPorch           0\n",
       "ScreenPorch         0\n",
       "PoolArea            0\n",
       "MiscVal             0\n",
       "MoSold              0\n",
       "YrSold              0\n",
       "SaleType            0\n",
       "SaleCondition       0\n",
       "GarageCars          0\n",
       "GarageFinish        0\n",
       "GarageType          0\n",
       "FullBath            0\n",
       "1stFlrSF            0\n",
       "2ndFlrSF            0\n",
       "LowQualFinSF        0\n",
       "GrLivArea           0\n",
       "BsmtFullBath        0\n",
       "BsmtHalfBath        0\n",
       "HalfBath            0\n",
       "FireplaceQu         0\n",
       "BedroomAbvGr        0\n",
       "KitchenAbvGr        0\n",
       "KitchenQual         0\n",
       "TotRmsAbvGrd        0\n",
       "Functional          0\n",
       "Fireplaces          0\n",
       "MSSubClass          0\n",
       "Length: 74, dtype: int64"
      ]
     },
     "execution_count": 181,
     "metadata": {},
     "output_type": "execute_result"
    }
   ],
   "source": [
    "df.isna().sum(axis=0).sort_values(ascending=False)"
   ]
  },
  {
   "cell_type": "code",
   "execution_count": 182,
   "metadata": {},
   "outputs": [
    {
     "data": {
      "text/plain": [
       "(1460, 74)"
      ]
     },
     "execution_count": 182,
     "metadata": {},
     "output_type": "execute_result"
    }
   ],
   "source": [
    "df.shape"
   ]
  },
  {
   "cell_type": "code",
   "execution_count": 183,
   "metadata": {},
   "outputs": [],
   "source": [
    "#dropping the duplicate columns \n",
    "df=df.drop_duplicates()"
   ]
  },
  {
   "cell_type": "code",
   "execution_count": 184,
   "metadata": {},
   "outputs": [
    {
     "data": {
      "text/plain": [
       "(1460, 74)"
      ]
     },
     "execution_count": 184,
     "metadata": {},
     "output_type": "execute_result"
    }
   ],
   "source": [
    "df.shape"
   ]
  },
  {
   "cell_type": "code",
   "execution_count": 185,
   "metadata": {},
   "outputs": [],
   "source": [
    "df.to_csv('CleanedTrain.csv')"
   ]
  },
  {
   "cell_type": "code",
   "execution_count": 186,
   "metadata": {},
   "outputs": [],
   "source": [
    "df.drop(['Sale Price Range'],axis=1,inplace=True)"
   ]
  },
  {
   "cell_type": "code",
   "execution_count": 187,
   "metadata": {},
   "outputs": [],
   "source": [
    "df.drop(index=1459,axis=0,inplace=True)"
   ]
  },
  {
   "cell_type": "code",
   "execution_count": 188,
   "metadata": {},
   "outputs": [],
   "source": [
    "y=df['SalePrice']"
   ]
  },
  {
   "cell_type": "code",
   "execution_count": 189,
   "metadata": {},
   "outputs": [
    {
     "data": {
      "text/plain": [
       "(1459, 73)"
      ]
     },
     "execution_count": 189,
     "metadata": {},
     "output_type": "execute_result"
    }
   ],
   "source": [
    "df.shape"
   ]
  },
  {
   "cell_type": "code",
   "execution_count": 190,
   "metadata": {},
   "outputs": [
    {
     "name": "stdout",
     "output_type": "stream",
     "text": [
      "<class 'pandas.core.frame.DataFrame'>\n",
      "Int64Index: 1459 entries, 0 to 1458\n",
      "Data columns (total 73 columns):\n",
      "MSSubClass       1459 non-null int64\n",
      "MSZoning         1459 non-null object\n",
      "LotFrontage      1459 non-null float64\n",
      "LotArea          1459 non-null int64\n",
      "Street           1459 non-null object\n",
      "LotShape         1459 non-null object\n",
      "LandContour      1459 non-null object\n",
      "Utilities        1459 non-null object\n",
      "LotConfig        1459 non-null object\n",
      "LandSlope        1459 non-null object\n",
      "Neighborhood     1459 non-null object\n",
      "Condition1       1459 non-null object\n",
      "Condition2       1459 non-null object\n",
      "BldgType         1459 non-null object\n",
      "HouseStyle       1459 non-null object\n",
      "OverallCond      1459 non-null int64\n",
      "YearBuilt        1459 non-null int64\n",
      "YearRemodAdd     1459 non-null int64\n",
      "RoofStyle        1459 non-null object\n",
      "RoofMatl         1459 non-null object\n",
      "Exterior1st      1459 non-null object\n",
      "Exterior2nd      1459 non-null object\n",
      "MasVnrType       1459 non-null object\n",
      "MasVnrArea       1459 non-null object\n",
      "ExterQual        1459 non-null object\n",
      "ExterCond        1459 non-null object\n",
      "Foundation       1459 non-null object\n",
      "BsmtQual         1459 non-null object\n",
      "BsmtCond         1459 non-null object\n",
      "BsmtExposure     1459 non-null object\n",
      "BsmtFinType1     1459 non-null object\n",
      "BsmtFinSF1       1459 non-null int64\n",
      "BsmtFinType2     1459 non-null object\n",
      "BsmtFinSF2       1459 non-null int64\n",
      "BsmtUnfSF        1459 non-null int64\n",
      "Heating          1459 non-null object\n",
      "HeatingQC        1459 non-null object\n",
      "CentralAir       1459 non-null object\n",
      "Electrical       1459 non-null object\n",
      "1stFlrSF         1459 non-null int64\n",
      "2ndFlrSF         1459 non-null int64\n",
      "LowQualFinSF     1459 non-null int64\n",
      "GrLivArea        1459 non-null int64\n",
      "BsmtFullBath     1459 non-null int64\n",
      "BsmtHalfBath     1459 non-null int64\n",
      "FullBath         1459 non-null int64\n",
      "HalfBath         1459 non-null int64\n",
      "BedroomAbvGr     1459 non-null int64\n",
      "KitchenAbvGr     1459 non-null int64\n",
      "KitchenQual      1459 non-null object\n",
      "TotRmsAbvGrd     1459 non-null int64\n",
      "Functional       1459 non-null object\n",
      "Fireplaces       1459 non-null int64\n",
      "FireplaceQu      1459 non-null object\n",
      "GarageType       1459 non-null object\n",
      "GarageFinish     1459 non-null object\n",
      "GarageCars       1459 non-null int64\n",
      "GarageArea       1459 non-null int64\n",
      "GarageQual       1459 non-null object\n",
      "GarageCond       1459 non-null object\n",
      "PavedDrive       1459 non-null object\n",
      "WoodDeckSF       1459 non-null int64\n",
      "OpenPorchSF      1459 non-null int64\n",
      "EnclosedPorch    1459 non-null int64\n",
      "3SsnPorch        1459 non-null int64\n",
      "ScreenPorch      1459 non-null int64\n",
      "PoolArea         1459 non-null int64\n",
      "MiscVal          1459 non-null int64\n",
      "MoSold           1459 non-null int64\n",
      "YrSold           1459 non-null int64\n",
      "SaleType         1459 non-null object\n",
      "SaleCondition    1459 non-null object\n",
      "SalePrice        1459 non-null int64\n",
      "dtypes: float64(1), int64(32), object(40)\n",
      "memory usage: 843.5+ KB\n"
     ]
    }
   ],
   "source": [
    "df.info()"
   ]
  },
  {
   "cell_type": "code",
   "execution_count": 191,
   "metadata": {},
   "outputs": [],
   "source": [
    "cat=df.select_dtypes(include=\"object\")\n",
    "num=df.select_dtypes(include=\"number\")"
   ]
  },
  {
   "cell_type": "code",
   "execution_count": 192,
   "metadata": {},
   "outputs": [],
   "source": [
    "num.drop(['SalePrice'],axis=1,inplace=True)"
   ]
  },
  {
   "cell_type": "code",
   "execution_count": 193,
   "metadata": {},
   "outputs": [],
   "source": [
    "cat=pd.get_dummies(cat,dtype=int)"
   ]
  },
  {
   "cell_type": "code",
   "execution_count": 194,
   "metadata": {},
   "outputs": [],
   "source": [
    "x=pd.concat([cat,num],axis=1)"
   ]
  },
  {
   "cell_type": "code",
   "execution_count": 195,
   "metadata": {},
   "outputs": [
    {
     "data": {
      "text/plain": [
       "((1459, 609), (1459,))"
      ]
     },
     "execution_count": 195,
     "metadata": {},
     "output_type": "execute_result"
    }
   ],
   "source": [
    "x.shape,y.shape"
   ]
  },
  {
   "cell_type": "code",
   "execution_count": 196,
   "metadata": {},
   "outputs": [
    {
     "ename": "AttributeError",
     "evalue": "'DataFrame' object has no attribute 'columnS'",
     "output_type": "error",
     "traceback": [
      "\u001b[1;31m---------------------------------------------------------------------------\u001b[0m",
      "\u001b[1;31mAttributeError\u001b[0m                            Traceback (most recent call last)",
      "\u001b[1;32m<ipython-input-196-f86372c3fdc3>\u001b[0m in \u001b[0;36m<module>\u001b[1;34m\u001b[0m\n\u001b[1;32m----> 1\u001b[1;33m \u001b[0mx\u001b[0m\u001b[1;33m.\u001b[0m\u001b[0mcolumnS\u001b[0m\u001b[1;33m\u001b[0m\u001b[1;33m\u001b[0m\u001b[0m\n\u001b[0m",
      "\u001b[1;32m~\\Annaconda\\lib\\site-packages\\pandas\\core\\generic.py\u001b[0m in \u001b[0;36m__getattr__\u001b[1;34m(self, name)\u001b[0m\n\u001b[0;32m   5065\u001b[0m             \u001b[1;32mif\u001b[0m \u001b[0mself\u001b[0m\u001b[1;33m.\u001b[0m\u001b[0m_info_axis\u001b[0m\u001b[1;33m.\u001b[0m\u001b[0m_can_hold_identifiers_and_holds_name\u001b[0m\u001b[1;33m(\u001b[0m\u001b[0mname\u001b[0m\u001b[1;33m)\u001b[0m\u001b[1;33m:\u001b[0m\u001b[1;33m\u001b[0m\u001b[1;33m\u001b[0m\u001b[0m\n\u001b[0;32m   5066\u001b[0m                 \u001b[1;32mreturn\u001b[0m \u001b[0mself\u001b[0m\u001b[1;33m[\u001b[0m\u001b[0mname\u001b[0m\u001b[1;33m]\u001b[0m\u001b[1;33m\u001b[0m\u001b[1;33m\u001b[0m\u001b[0m\n\u001b[1;32m-> 5067\u001b[1;33m             \u001b[1;32mreturn\u001b[0m \u001b[0mobject\u001b[0m\u001b[1;33m.\u001b[0m\u001b[0m__getattribute__\u001b[0m\u001b[1;33m(\u001b[0m\u001b[0mself\u001b[0m\u001b[1;33m,\u001b[0m \u001b[0mname\u001b[0m\u001b[1;33m)\u001b[0m\u001b[1;33m\u001b[0m\u001b[1;33m\u001b[0m\u001b[0m\n\u001b[0m\u001b[0;32m   5068\u001b[0m \u001b[1;33m\u001b[0m\u001b[0m\n\u001b[0;32m   5069\u001b[0m     \u001b[1;32mdef\u001b[0m \u001b[0m__setattr__\u001b[0m\u001b[1;33m(\u001b[0m\u001b[0mself\u001b[0m\u001b[1;33m,\u001b[0m \u001b[0mname\u001b[0m\u001b[1;33m,\u001b[0m \u001b[0mvalue\u001b[0m\u001b[1;33m)\u001b[0m\u001b[1;33m:\u001b[0m\u001b[1;33m\u001b[0m\u001b[1;33m\u001b[0m\u001b[0m\n",
      "\u001b[1;31mAttributeError\u001b[0m: 'DataFrame' object has no attribute 'columnS'"
     ]
    }
   ],
   "source": [
    "x.columnS"
   ]
  },
  {
   "cell_type": "code",
   "execution_count": 197,
   "metadata": {},
   "outputs": [],
   "source": [
    "x.drop(x.iloc[:, 571:609], inplace=True, axis=1)\n"
   ]
  },
  {
   "cell_type": "code",
   "execution_count": 198,
   "metadata": {},
   "outputs": [
    {
     "data": {
      "text/plain": [
       "(1459, 571)"
      ]
     },
     "execution_count": 198,
     "metadata": {},
     "output_type": "execute_result"
    }
   ],
   "source": [
    "x.shape"
   ]
  },
  {
   "cell_type": "code",
   "execution_count": 199,
   "metadata": {},
   "outputs": [],
   "source": [
    "x_test=pd.read_csv(\"TestSalePrice.csv\")"
   ]
  },
  {
   "cell_type": "code",
   "execution_count": 200,
   "metadata": {},
   "outputs": [
    {
     "data": {
      "text/plain": [
       "LinearRegression(copy_X=True, fit_intercept=True, n_jobs=None, normalize=True)"
      ]
     },
     "execution_count": 200,
     "metadata": {},
     "output_type": "execute_result"
    }
   ],
   "source": [
    "model=LinearRegression(normalize=True)\n",
    "model.fit(x,y)\n"
   ]
  },
  {
   "cell_type": "code",
   "execution_count": 201,
   "metadata": {},
   "outputs": [
    {
     "name": "stdout",
     "output_type": "stream",
     "text": [
      "[1.15341075e+22 4.11397626e+21 3.73303374e+21 ... 4.70072396e+21\n",
      " 3.68293265e+21 3.85293668e+21]\n"
     ]
    }
   ],
   "source": [
    "predictions=model.predict(x_test)\n",
    "print(predictions)"
   ]
  },
  {
   "cell_type": "code",
   "execution_count": 202,
   "metadata": {},
   "outputs": [],
   "source": [
    "predictions=model.predict(x)"
   ]
  },
  {
   "cell_type": "code",
   "execution_count": 203,
   "metadata": {},
   "outputs": [
    {
     "name": "stdout",
     "output_type": "stream",
     "text": [
      "[197632. 214016. 197632. ... 212992. 291840. 160768.]\n"
     ]
    }
   ],
   "source": [
    "print(predictions)"
   ]
  },
  {
   "cell_type": "code",
   "execution_count": 204,
   "metadata": {},
   "outputs": [],
   "source": [
    "Pred=pd.DataFrame(predictions)"
   ]
  },
  {
   "cell_type": "code",
   "execution_count": 205,
   "metadata": {},
   "outputs": [],
   "source": [
    "Pred.to_csv('MyPredictions.csv',index=0,header=False)"
   ]
  },
  {
   "cell_type": "code",
   "execution_count": 206,
   "metadata": {},
   "outputs": [
    {
     "name": "stdout",
     "output_type": "stream",
     "text": [
      "Mean Squared Error: 639003902.4715558\n"
     ]
    }
   ],
   "source": [
    "print(\"Mean Squared Error:\",mean_squared_error(y,predictions))"
   ]
  },
  {
   "cell_type": "code",
   "execution_count": 227,
   "metadata": {},
   "outputs": [
    {
     "name": "stdout",
     "output_type": "stream",
     "text": [
      "R2 value: 89.8737091874704\n"
     ]
    }
   ],
   "source": [
    "print(\"R2 value:\",r2_score(y,predictions)*100)"
   ]
  },
  {
   "cell_type": "code",
   "execution_count": 228,
   "metadata": {},
   "outputs": [],
   "source": [
    "#Adj r2 = 1-(1-R2)*(n-1)/(n-p-1)\n",
    "adjr2 = 1-((1-r2_score(y,predictions))*(1459-1)/(1459-571-1))"
   ]
  },
  {
   "cell_type": "code",
   "execution_count": 229,
   "metadata": {},
   "outputs": [
    {
     "name": "stdout",
     "output_type": "stream",
     "text": [
      "0.8335498082900996\n"
     ]
    }
   ],
   "source": [
    "print(adjr2)"
   ]
  },
  {
   "cell_type": "code",
   "execution_count": null,
   "metadata": {},
   "outputs": [],
   "source": []
  },
  {
   "cell_type": "code",
   "execution_count": 237,
   "metadata": {},
   "outputs": [],
   "source": [
    "# Running RFE with the output number of the variables equal to 200\n",
    "\n",
    "model.fit(x,y)\n",
    "\n",
    "# running RFE\n",
    "rfe = RFE(model, 20)             \n",
    "rfe = rfe.fit(x,y)"
   ]
  },
  {
   "cell_type": "code",
   "execution_count": 238,
   "metadata": {},
   "outputs": [
    {
     "data": {
      "text/plain": [
       "RFE(estimator=LinearRegression(copy_X=True, fit_intercept=True, n_jobs=None, normalize=True),\n",
       "  n_features_to_select=20, step=1, verbose=0)"
      ]
     },
     "execution_count": 238,
     "metadata": {},
     "output_type": "execute_result"
    }
   ],
   "source": [
    "rfe"
   ]
  },
  {
   "cell_type": "code",
   "execution_count": 63,
   "metadata": {},
   "outputs": [
    {
     "data": {
      "text/plain": [
       "[('MSZoning_C (all)', False, 531),\n",
       " ('MSZoning_FV', False, 535),\n",
       " ('MSZoning_RH', False, 534),\n",
       " ('MSZoning_RL', False, 533),\n",
       " ('MSZoning_RM', False, 532),\n",
       " ('Street_Grvl', False, 476),\n",
       " ('Street_Pave', False, 477),\n",
       " ('LotShape_IR1', False, 521),\n",
       " ('LotShape_IR2', False, 523),\n",
       " ('LotShape_IR3', False, 524),\n",
       " ('LotShape_Reg', False, 522),\n",
       " ('LandContour_Bnk', False, 61),\n",
       " ('LandContour_HLS', False, 58),\n",
       " ('LandContour_Low', False, 59),\n",
       " ('LandContour_Lvl', False, 60),\n",
       " ('Utilities_AllPub', False, 42),\n",
       " ('Utilities_NoSeWa', False, 16),\n",
       " ('LotConfig_Corner', False, 473),\n",
       " ('LotConfig_CulDSac', False, 475),\n",
       " ('LotConfig_FR2', False, 471),\n",
       " ('LotConfig_FR3', False, 474),\n",
       " ('LotConfig_Inside', False, 472),\n",
       " ('LandSlope_Gtl', False, 49),\n",
       " ('LandSlope_Mod', False, 50),\n",
       " ('LandSlope_Sev', False, 51),\n",
       " ('Neighborhood_Blmngtn', False, 542),\n",
       " ('Neighborhood_Blueste', False, 543),\n",
       " ('Neighborhood_BrDale', False, 559),\n",
       " ('Neighborhood_BrkSide', False, 550),\n",
       " ('Neighborhood_ClearCr', False, 548),\n",
       " ('Neighborhood_CollgCr', False, 553),\n",
       " ('Neighborhood_Crawfor', False, 539),\n",
       " ('Neighborhood_Edwards', False, 557),\n",
       " ('Neighborhood_Gilbert', False, 555),\n",
       " ('Neighborhood_IDOTRR', False, 558),\n",
       " ('Neighborhood_MeadowV', False, 560),\n",
       " ('Neighborhood_Mitchel', False, 556),\n",
       " ('Neighborhood_NAmes', False, 554),\n",
       " ('Neighborhood_NPkVill', False, 545),\n",
       " ('Neighborhood_NWAmes', False, 544),\n",
       " ('Neighborhood_NoRidge', False, 536),\n",
       " ('Neighborhood_NridgHt', False, 538),\n",
       " ('Neighborhood_OldTown', False, 551),\n",
       " ('Neighborhood_SWISU', False, 549),\n",
       " ('Neighborhood_Sawyer', False, 552),\n",
       " ('Neighborhood_SawyerW', False, 547),\n",
       " ('Neighborhood_Somerst', False, 540),\n",
       " ('Neighborhood_StoneBr', False, 537),\n",
       " ('Neighborhood_Timber', False, 541),\n",
       " ('Neighborhood_Veenker', False, 546),\n",
       " ('Condition1_Artery', False, 501),\n",
       " ('Condition1_Feedr', False, 504),\n",
       " ('Condition1_Norm', False, 507),\n",
       " ('Condition1_PosA', False, 508),\n",
       " ('Condition1_PosN', False, 505),\n",
       " ('Condition1_RRAe', False, 503),\n",
       " ('Condition1_RRAn', False, 506),\n",
       " ('Condition1_RRNe', False, 502),\n",
       " ('Condition1_RRNn', False, 500),\n",
       " ('Condition2_Artery', False, 40),\n",
       " ('Condition2_Feedr', False, 39),\n",
       " ('Condition2_Norm', False, 38),\n",
       " ('Condition2_PosA', False, 41),\n",
       " ('Condition2_PosN', True, 1),\n",
       " ('Condition2_RRAe', False, 36),\n",
       " ('Condition2_RRAn', False, 35),\n",
       " ('Condition2_RRNn', False, 37),\n",
       " ('BldgType_1Fam', False, 480),\n",
       " ('BldgType_2fmCon', False, 479),\n",
       " ('BldgType_Duplex', False, 478),\n",
       " ('BldgType_Twnhs', False, 482),\n",
       " ('BldgType_TwnhsE', False, 481),\n",
       " ('HouseStyle_1.5Fin', False, 496),\n",
       " ('HouseStyle_1.5Unf', False, 494),\n",
       " ('HouseStyle_1Story', False, 495),\n",
       " ('HouseStyle_2.5Fin', False, 499),\n",
       " ('HouseStyle_2.5Unf', False, 498),\n",
       " ('HouseStyle_2Story', False, 497),\n",
       " ('HouseStyle_SFoyer', False, 492),\n",
       " ('HouseStyle_SLvl', False, 493),\n",
       " ('RoofStyle_Flat', False, 526),\n",
       " ('RoofStyle_Gable', False, 529),\n",
       " ('RoofStyle_Gambrel', False, 528),\n",
       " ('RoofStyle_Hip', False, 527),\n",
       " ('RoofStyle_Mansard', False, 525),\n",
       " ('RoofStyle_Shed', False, 530),\n",
       " ('RoofMatl_ClyTile', False, 399),\n",
       " ('RoofMatl_CompShg', False, 432),\n",
       " ('RoofMatl_Membran', False, 431),\n",
       " ('RoofMatl_Metal', False, 433),\n",
       " ('RoofMatl_Roll', True, 1),\n",
       " ('RoofMatl_Tar&Grv', False, 430),\n",
       " ('RoofMatl_WdShake', False, 429),\n",
       " ('RoofMatl_WdShngl', False, 428),\n",
       " ('Exterior1st_AsbShng', False, 14),\n",
       " ('Exterior1st_AsphShn', False, 15),\n",
       " ('Exterior1st_BrkComm', False, 13),\n",
       " ('Exterior1st_BrkFace', False, 6),\n",
       " ('Exterior1st_CBlock', True, 1),\n",
       " ('Exterior1st_CemntBd', False, 4),\n",
       " ('Exterior1st_HdBoard', False, 9),\n",
       " ('Exterior1st_ImStucc', False, 3),\n",
       " ('Exterior1st_MetalSd', False, 11),\n",
       " ('Exterior1st_Plywood', False, 8),\n",
       " ('Exterior1st_Stone', False, 2),\n",
       " ('Exterior1st_Stucco', False, 7),\n",
       " ('Exterior1st_VinylSd', False, 5),\n",
       " ('Exterior1st_Wd Sdng', False, 10),\n",
       " ('Exterior1st_WdShing', False, 12),\n",
       " ('Exterior2nd_AsbShng', False, 462),\n",
       " ('Exterior2nd_AsphShn', False, 458),\n",
       " ('Exterior2nd_Brk Cmn', False, 461),\n",
       " ('Exterior2nd_BrkFace', False, 467),\n",
       " ('Exterior2nd_CBlock', True, 1),\n",
       " ('Exterior2nd_CmentBd', False, 464),\n",
       " ('Exterior2nd_HdBoard', False, 459),\n",
       " ('Exterior2nd_ImStucc', False, 454),\n",
       " ('Exterior2nd_MetalSd', False, 468),\n",
       " ('Exterior2nd_Other', False, 455),\n",
       " ('Exterior2nd_Plywood', False, 460),\n",
       " ('Exterior2nd_Stone', False, 466),\n",
       " ('Exterior2nd_Stucco', False, 456),\n",
       " ('Exterior2nd_VinylSd', False, 457),\n",
       " ('Exterior2nd_Wd Sdng', False, 465),\n",
       " ('Exterior2nd_Wd Shng', False, 463),\n",
       " ('MasVnrType_BrkCmn', False, 451),\n",
       " ('MasVnrType_BrkFace', False, 450),\n",
       " ('MasVnrType_None', False, 449),\n",
       " ('MasVnrType_Stone', False, 452),\n",
       " ('MasVnrArea_0.0', False, 266),\n",
       " ('MasVnrArea_1.0', False, 333),\n",
       " ('MasVnrArea_11.0', False, 373),\n",
       " ('MasVnrArea_14.0', False, 357),\n",
       " ('MasVnrArea_16.0', False, 325),\n",
       " ('MasVnrArea_18.0', False, 341),\n",
       " ('MasVnrArea_22.0', False, 259),\n",
       " ('MasVnrArea_24.0', False, 358),\n",
       " ('MasVnrArea_27.0', False, 319),\n",
       " ('MasVnrArea_28.0', False, 206),\n",
       " ('MasVnrArea_30.0', False, 203),\n",
       " ('MasVnrArea_31.0', False, 308),\n",
       " ('MasVnrArea_32.0', False, 251),\n",
       " ('MasVnrArea_34.0', False, 110),\n",
       " ('MasVnrArea_36.0', False, 208),\n",
       " ('MasVnrArea_38.0', False, 193),\n",
       " ('MasVnrArea_40.0', False, 211),\n",
       " ('MasVnrArea_41.0', False, 369),\n",
       " ('MasVnrArea_42.0', False, 155),\n",
       " ('MasVnrArea_44.0', False, 192),\n",
       " ('MasVnrArea_45.0', False, 387),\n",
       " ('MasVnrArea_46.0', False, 293),\n",
       " ('MasVnrArea_48.0', False, 386),\n",
       " ('MasVnrArea_50.0', False, 391),\n",
       " ('MasVnrArea_51.0', False, 229),\n",
       " ('MasVnrArea_53.0', False, 223),\n",
       " ('MasVnrArea_54.0', False, 343),\n",
       " ('MasVnrArea_56.0', False, 256),\n",
       " ('MasVnrArea_57.0', False, 321),\n",
       " ('MasVnrArea_60.0', False, 201),\n",
       " ('MasVnrArea_63.0', False, 337),\n",
       " ('MasVnrArea_64.0', False, 320),\n",
       " ('MasVnrArea_65.0', False, 378),\n",
       " ('MasVnrArea_66.0', False, 151),\n",
       " ('MasVnrArea_67.0', False, 261),\n",
       " ('MasVnrArea_68.0', False, 389),\n",
       " ('MasVnrArea_70.0', False, 267),\n",
       " ('MasVnrArea_72.0', False, 268),\n",
       " ('MasVnrArea_74.0', False, 232),\n",
       " ('MasVnrArea_75.0', False, 312),\n",
       " ('MasVnrArea_76.0', False, 356),\n",
       " ('MasVnrArea_80.0', False, 361),\n",
       " ('MasVnrArea_81.0', False, 342),\n",
       " ('MasVnrArea_82.0', False, 344),\n",
       " ('MasVnrArea_84.0', False, 239),\n",
       " ('MasVnrArea_85.0', False, 252),\n",
       " ('MasVnrArea_86.0', False, 216),\n",
       " ('MasVnrArea_88.0', False, 176),\n",
       " ('MasVnrArea_89.0', False, 332),\n",
       " ('MasVnrArea_90.0', False, 364),\n",
       " ('MasVnrArea_92.0', False, 271),\n",
       " ('MasVnrArea_94.0', False, 334),\n",
       " ('MasVnrArea_95.0', False, 376),\n",
       " ('MasVnrArea_96.0', False, 159),\n",
       " ('MasVnrArea_97.0', False, 298),\n",
       " ('MasVnrArea_98.0', False, 331),\n",
       " ('MasVnrArea_99.0', False, 141),\n",
       " ('MasVnrArea_100.0', False, 174),\n",
       " ('MasVnrArea_101.0', False, 318),\n",
       " ('MasVnrArea_102.0', False, 94),\n",
       " ('MasVnrArea_104.0', False, 258),\n",
       " ('MasVnrArea_105.0', False, 324),\n",
       " ('MasVnrArea_106.0', False, 370),\n",
       " ('MasVnrArea_108.0', False, 295),\n",
       " ('MasVnrArea_109.0', False, 307),\n",
       " ('MasVnrArea_110.0', False, 262),\n",
       " ('MasVnrArea_112.0', False, 207),\n",
       " ('MasVnrArea_113.0', False, 289),\n",
       " ('MasVnrArea_114.0', False, 353),\n",
       " ('MasVnrArea_115.0', False, 310),\n",
       " ('MasVnrArea_116.0', False, 338),\n",
       " ('MasVnrArea_117.0', False, 390),\n",
       " ('MasVnrArea_119.0', False, 140),\n",
       " ('MasVnrArea_120.0', False, 257),\n",
       " ('MasVnrArea_122.0', False, 277),\n",
       " ('MasVnrArea_123.0', False, 132),\n",
       " ('MasVnrArea_125.0', False, 272),\n",
       " ('MasVnrArea_126.0', False, 253),\n",
       " ('MasVnrArea_127.0', False, 348),\n",
       " ('MasVnrArea_128.0', False, 365),\n",
       " ('MasVnrArea_130.0', False, 350),\n",
       " ('MasVnrArea_132.0', False, 236),\n",
       " ('MasVnrArea_135.0', False, 306),\n",
       " ('MasVnrArea_136.0', False, 265),\n",
       " ('MasVnrArea_137.0', False, 280),\n",
       " ('MasVnrArea_138.0', False, 188),\n",
       " ('MasVnrArea_140.0', False, 301),\n",
       " ('MasVnrArea_142.0', False, 326),\n",
       " ('MasVnrArea_143.0', False, 209),\n",
       " ('MasVnrArea_144.0', False, 379),\n",
       " ('MasVnrArea_145.0', False, 283),\n",
       " ('MasVnrArea_146.0', False, 354),\n",
       " ('MasVnrArea_147.0', False, 394),\n",
       " ('MasVnrArea_148.0', False, 246),\n",
       " ('MasVnrArea_149.0', False, 282),\n",
       " ('MasVnrArea_150.0', False, 284),\n",
       " ('MasVnrArea_151.0', False, 317),\n",
       " ('MasVnrArea_153.0', False, 270),\n",
       " ('MasVnrArea_154.0', False, 190),\n",
       " ('MasVnrArea_156.0', False, 375),\n",
       " ('MasVnrArea_157.0', False, 218),\n",
       " ('MasVnrArea_158.0', False, 366),\n",
       " ('MasVnrArea_160.0', False, 278),\n",
       " ('MasVnrArea_161.0', False, 347),\n",
       " ('MasVnrArea_162.0', False, 196),\n",
       " ('MasVnrArea_163.0', False, 367),\n",
       " ('MasVnrArea_164.0', False, 339),\n",
       " ('MasVnrArea_165.0', False, 177),\n",
       " ('MasVnrArea_166.0', False, 234),\n",
       " ('MasVnrArea_167.0', False, 263),\n",
       " ('MasVnrArea_168.0', False, 228),\n",
       " ('MasVnrArea_169.0', False, 395),\n",
       " ('MasVnrArea_170.0', False, 382),\n",
       " ('MasVnrArea_171.0', False, 230),\n",
       " ('MasVnrArea_172.0', False, 217),\n",
       " ('MasVnrArea_174.0', False, 254),\n",
       " ('MasVnrArea_175.0', False, 274),\n",
       " ('MasVnrArea_176.0', False, 124),\n",
       " ('MasVnrArea_178.0', False, 186),\n",
       " ('MasVnrArea_180.0', False, 244),\n",
       " ('MasVnrArea_182.0', False, 392),\n",
       " ('MasVnrArea_183.0', False, 329),\n",
       " ('MasVnrArea_184.0', False, 96),\n",
       " ('MasVnrArea_186.0', False, 150),\n",
       " ('MasVnrArea_188.0', False, 303),\n",
       " ('MasVnrArea_189.0', False, 191),\n",
       " ('MasVnrArea_192.0', False, 388),\n",
       " ('MasVnrArea_194.0', False, 149),\n",
       " ('MasVnrArea_196.0', False, 300),\n",
       " ('MasVnrArea_200.0', False, 111),\n",
       " ('MasVnrArea_202.0', False, 305),\n",
       " ('MasVnrArea_203.0', False, 291),\n",
       " ('MasVnrArea_204.0', False, 125),\n",
       " ('MasVnrArea_205.0', False, 360),\n",
       " ('MasVnrArea_206.0', False, 311),\n",
       " ('MasVnrArea_207.0', False, 380),\n",
       " ('MasVnrArea_208.0', False, 84),\n",
       " ('MasVnrArea_209.0', False, 384),\n",
       " ('MasVnrArea_210.0', False, 292),\n",
       " ('MasVnrArea_212.0', False, 340),\n",
       " ('MasVnrArea_215.0', False, 167),\n",
       " ('MasVnrArea_216.0', False, 250),\n",
       " ('MasVnrArea_218.0', False, 327),\n",
       " ('MasVnrArea_219.0', False, 372),\n",
       " ('MasVnrArea_220.0', False, 131),\n",
       " ('MasVnrArea_223.0', False, 181),\n",
       " ('MasVnrArea_224.0', False, 290),\n",
       " ('MasVnrArea_225.0', False, 210),\n",
       " ('MasVnrArea_226.0', False, 243),\n",
       " ('MasVnrArea_228.0', False, 281),\n",
       " ('MasVnrArea_230.0', False, 288),\n",
       " ('MasVnrArea_232.0', False, 363),\n",
       " ('MasVnrArea_233.0', False, 221),\n",
       " ('MasVnrArea_234.0', False, 109),\n",
       " ('MasVnrArea_236.0', False, 224),\n",
       " ('MasVnrArea_237.0', False, 345),\n",
       " ('MasVnrArea_238.0', False, 144),\n",
       " ('MasVnrArea_240.0', False, 374),\n",
       " ('MasVnrArea_243.0', False, 314),\n",
       " ('MasVnrArea_244.0', False, 245),\n",
       " ('MasVnrArea_245.0', False, 116),\n",
       " ('MasVnrArea_246.0', False, 163),\n",
       " ('MasVnrArea_247.0', False, 269),\n",
       " ('MasVnrArea_248.0', False, 194),\n",
       " ('MasVnrArea_250.0', False, 247),\n",
       " ('MasVnrArea_252.0', False, 170),\n",
       " ('MasVnrArea_254.0', False, 279),\n",
       " ('MasVnrArea_255.0', False, 362),\n",
       " ('MasVnrArea_256.0', False, 349),\n",
       " ('MasVnrArea_258.0', False, 200),\n",
       " ('MasVnrArea_259.0', False, 330),\n",
       " ('MasVnrArea_260.0', False, 346),\n",
       " ('MasVnrArea_261.0', False, 204),\n",
       " ('MasVnrArea_262.0', False, 202),\n",
       " ('MasVnrArea_263.0', False, 264),\n",
       " ('MasVnrArea_266.0', False, 355),\n",
       " ('MasVnrArea_268.0', False, 169),\n",
       " ('MasVnrArea_270.0', False, 157),\n",
       " ('MasVnrArea_272.0', False, 164),\n",
       " ('MasVnrArea_274.0', False, 323),\n",
       " ('MasVnrArea_275.0', False, 297),\n",
       " ('MasVnrArea_278.0', False, 138),\n",
       " ('MasVnrArea_280.0', False, 126),\n",
       " ('MasVnrArea_281.0', False, 336),\n",
       " ('MasVnrArea_284.0', False, 147),\n",
       " ('MasVnrArea_285.0', False, 158),\n",
       " ('MasVnrArea_286.0', False, 398),\n",
       " ('MasVnrArea_287.0', False, 377),\n",
       " ('MasVnrArea_288.0', False, 184),\n",
       " ('MasVnrArea_289.0', False, 351),\n",
       " ('MasVnrArea_290.0', False, 127),\n",
       " ('MasVnrArea_292.0', False, 137),\n",
       " ('MasVnrArea_293.0', False, 97),\n",
       " ('MasVnrArea_294.0', False, 302),\n",
       " ('MasVnrArea_295.0', False, 212),\n",
       " ('MasVnrArea_296.0', False, 444),\n",
       " ('MasVnrArea_297.0', False, 359),\n",
       " ('MasVnrArea_298.0', False, 241),\n",
       " ('MasVnrArea_299.0', False, 197),\n",
       " ('MasVnrArea_300.0', False, 130),\n",
       " ('MasVnrArea_302.0', False, 185),\n",
       " ('MasVnrArea_304.0', False, 102),\n",
       " ('MasVnrArea_305.0', False, 187),\n",
       " ('MasVnrArea_306.0', False, 397),\n",
       " ('MasVnrArea_309.0', False, 95),\n",
       " ('MasVnrArea_310.0', False, 313),\n",
       " ('MasVnrArea_312.0', False, 172),\n",
       " ('MasVnrArea_315.0', False, 316),\n",
       " ('MasVnrArea_318.0', False, 182),\n",
       " ('MasVnrArea_320.0', False, 285),\n",
       " ('MasVnrArea_324.0', False, 231),\n",
       " ('MasVnrArea_328.0', False, 142),\n",
       " ('MasVnrArea_333.0', False, 222),\n",
       " ('MasVnrArea_335.0', False, 198),\n",
       " ('MasVnrArea_336.0', False, 175),\n",
       " ('MasVnrArea_337.0', False, 152),\n",
       " ('MasVnrArea_338.0', False, 294),\n",
       " ('MasVnrArea_340.0', False, 148),\n",
       " ('MasVnrArea_342.0', False, 168),\n",
       " ('MasVnrArea_344.0', False, 287),\n",
       " ('MasVnrArea_348.0', False, 133),\n",
       " ('MasVnrArea_350.0', False, 87),\n",
       " ('MasVnrArea_351.0', False, 118),\n",
       " ('MasVnrArea_359.0', False, 143),\n",
       " ('MasVnrArea_360.0', False, 260),\n",
       " ('MasVnrArea_361.0', False, 160),\n",
       " ('MasVnrArea_362.0', False, 121),\n",
       " ('MasVnrArea_365.0', False, 352),\n",
       " ('MasVnrArea_366.0', False, 153),\n",
       " ('MasVnrArea_368.0', False, 100),\n",
       " ('MasVnrArea_370.0', False, 78),\n",
       " ('MasVnrArea_375.0', False, 80),\n",
       " ('MasVnrArea_376.0', False, 335),\n",
       " ('MasVnrArea_378.0', False, 122),\n",
       " ('MasVnrArea_380.0', False, 112),\n",
       " ('MasVnrArea_381.0', False, 371),\n",
       " ('MasVnrArea_387.0', False, 183),\n",
       " ('MasVnrArea_388.0', False, 85),\n",
       " ('MasVnrArea_391.0', False, 114),\n",
       " ('MasVnrArea_396.0', False, 119),\n",
       " ('MasVnrArea_399.0', False, 328),\n",
       " ('MasVnrArea_408.0', False, 383),\n",
       " ('MasVnrArea_410.0', False, 286),\n",
       " ('MasVnrArea_412.0', False, 248),\n",
       " ('MasVnrArea_415.0', False, 255),\n",
       " ('MasVnrArea_420.0', False, 115),\n",
       " ('MasVnrArea_423.0', False, 99),\n",
       " ('MasVnrArea_424.0', False, 82),\n",
       " ('MasVnrArea_425.0', False, 214),\n",
       " ('MasVnrArea_426.0', False, 156),\n",
       " ('MasVnrArea_428.0', False, 393),\n",
       " ('MasVnrArea_432.0', False, 396),\n",
       " ('MasVnrArea_435.0', False, 385),\n",
       " ('MasVnrArea_436.0', False, 91),\n",
       " ('MasVnrArea_438.0', False, 242),\n",
       " ('MasVnrArea_442.0', False, 275),\n",
       " ('MasVnrArea_443.0', False, 296),\n",
       " ('MasVnrArea_448.0', False, 162),\n",
       " ('MasVnrArea_450.0', False, 180),\n",
       " ('MasVnrArea_451.0', False, 227),\n",
       " ('MasVnrArea_452.0', False, 322),\n",
       " ('MasVnrArea_456.0', False, 273),\n",
       " ('MasVnrArea_459.0', False, 226),\n",
       " ('MasVnrArea_464.0', False, 88),\n",
       " ('MasVnrArea_466.0', False, 173),\n",
       " ('MasVnrArea_468.0', False, 89),\n",
       " ('MasVnrArea_472.0', False, 304),\n",
       " ('MasVnrArea_473.0', False, 93),\n",
       " ('MasVnrArea_479.0', False, 145),\n",
       " ('MasVnrArea_480.0', False, 128),\n",
       " ('MasVnrArea_481.0', False, 381),\n",
       " ('MasVnrArea_491.0', False, 238),\n",
       " ('MasVnrArea_500.0', False, 215),\n",
       " ('MasVnrArea_506.0', False, 77),\n",
       " ('MasVnrArea_510.0', False, 309),\n",
       " ('MasVnrArea_513.0', False, 219),\n",
       " ('MasVnrArea_528.0', False, 195),\n",
       " ('MasVnrArea_530.0', False, 154),\n",
       " ('MasVnrArea_541.0', False, 17),\n",
       " ('MasVnrArea_554.0', False, 235),\n",
       " ('MasVnrArea_562.0', False, 92),\n",
       " ('MasVnrArea_564.0', False, 276),\n",
       " ('MasVnrArea_567.0', True, 1),\n",
       " ('MasVnrArea_571.0', False, 134),\n",
       " ('MasVnrArea_573.0', False, 113),\n",
       " ('MasVnrArea_576.0', False, 189),\n",
       " ('MasVnrArea_579.0', False, 75),\n",
       " ('MasVnrArea_584.0', False, 213),\n",
       " ('MasVnrArea_594.0', False, 123),\n",
       " ('MasVnrArea_600.0', False, 178),\n",
       " ('MasVnrArea_603.0', False, 81),\n",
       " ('MasVnrArea_604.0', False, 368),\n",
       " ('MasVnrArea_616.0', False, 315),\n",
       " ('MasVnrArea_621.0', False, 299),\n",
       " ('MasVnrArea_630.0', False, 139),\n",
       " ('MasVnrArea_632.0', False, 74),\n",
       " ('MasVnrArea_640.0', False, 237),\n",
       " ('MasVnrArea_650.0', False, 199),\n",
       " ('MasVnrArea_651.0', False, 135),\n",
       " ('MasVnrArea_653.0', False, 225),\n",
       " ('MasVnrArea_660.0', False, 101),\n",
       " ('MasVnrArea_664.0', False, 76),\n",
       " ('MasVnrArea_673.0', False, 117),\n",
       " ('MasVnrArea_705.0', False, 120),\n",
       " ('MasVnrArea_731.0', False, 86),\n",
       " ('MasVnrArea_748.0', False, 79),\n",
       " ('MasVnrArea_760.0', False, 73),\n",
       " ('MasVnrArea_762.0', True, 1),\n",
       " ('MasVnrArea_766.0', False, 146),\n",
       " ('MasVnrArea_768.0', False, 220),\n",
       " ('MasVnrArea_772.0', False, 171),\n",
       " ('MasVnrArea_788.0', False, 165),\n",
       " ('MasVnrArea_796.0', False, 453),\n",
       " ('MasVnrArea_816.0', True, 1),\n",
       " ('MasVnrArea_860.0', False, 83),\n",
       " ('MasVnrArea_870.0', False, 90),\n",
       " ('MasVnrArea_894.0', False, 166),\n",
       " ('MasVnrArea_921.0', False, 136),\n",
       " ('MasVnrArea_922.0', False, 161),\n",
       " ('MasVnrArea_975.0', False, 98),\n",
       " ('MasVnrArea_1031.0', False, 129),\n",
       " ('MasVnrArea_1047.0', False, 233),\n",
       " ('MasVnrArea_1115.0', False, 249),\n",
       " ('MasVnrArea_1129.0', False, 179),\n",
       " ('MasVnrArea_1170.0', False, 72),\n",
       " ('MasVnrArea_1378.0', False, 71),\n",
       " ('MasVnrArea_1600.0', False, 205),\n",
       " ('MasVnrArea_0', False, 240),\n",
       " ('ExterQual_Ex', False, 55),\n",
       " ('ExterQual_Fa', False, 52),\n",
       " ('ExterQual_Gd', False, 54),\n",
       " ('ExterQual_TA', False, 53),\n",
       " ('ExterCond_Ex', False, 483),\n",
       " ('ExterCond_Fa', False, 486),\n",
       " ('ExterCond_Gd', False, 484),\n",
       " ('ExterCond_Po', False, 487),\n",
       " ('ExterCond_TA', False, 485),\n",
       " ('Foundation_BrkTil', False, 441),\n",
       " ('Foundation_CBlock', False, 442),\n",
       " ('Foundation_PConc', False, 440),\n",
       " ('Foundation_Slab', False, 443),\n",
       " ('Foundation_Stone', False, 439),\n",
       " ('Foundation_Wood', False, 438),\n",
       " ('BsmtQual_Ex', False, 434),\n",
       " ('BsmtQual_Fa', False, 436),\n",
       " ('BsmtQual_Gd', False, 435),\n",
       " ('BsmtQual_Not Alloted', False, 18),\n",
       " ('BsmtQual_TA', False, 437),\n",
       " ('BsmtCond_Fa', False, 22),\n",
       " ('BsmtCond_Gd', False, 20),\n",
       " ('BsmtCond_Not Alloted', False, 19),\n",
       " ('BsmtCond_Po', False, 23),\n",
       " ('BsmtCond_TA', False, 21),\n",
       " ('BsmtExposure_Av', False, 46),\n",
       " ('BsmtExposure_Gd', False, 48),\n",
       " ('BsmtExposure_Mn', False, 47),\n",
       " ('BsmtExposure_No', False, 45),\n",
       " ('BsmtExposure_Not Alloted', False, 44),\n",
       " ('BsmtFinType1_ALQ', False, 511),\n",
       " ('BsmtFinType1_BLQ', False, 512),\n",
       " ('BsmtFinType1_GLQ', False, 509),\n",
       " ('BsmtFinType1_LwQ', False, 514),\n",
       " ('BsmtFinType1_Not Alloted', False, 445),\n",
       " ('BsmtFinType1_Rec', False, 513),\n",
       " ('BsmtFinType1_Unf', False, 510),\n",
       " ('BsmtFinType2_ALQ', False, 106),\n",
       " ('BsmtFinType2_BLQ', False, 103),\n",
       " ('BsmtFinType2_GLQ', False, 104),\n",
       " ('BsmtFinType2_LwQ', False, 107),\n",
       " ('BsmtFinType2_Not Alloted', False, 469),\n",
       " ('BsmtFinType2_Rec', False, 108),\n",
       " ('BsmtFinType2_Unf', False, 105),\n",
       " ('Heating_Floor', False, 519),\n",
       " ('Heating_GasA', False, 517),\n",
       " ('Heating_GasW', False, 520),\n",
       " ('Heating_Grav', False, 516),\n",
       " ('Heating_OthW', False, 518),\n",
       " ('Heating_Wall', False, 515),\n",
       " ('HeatingQC_Ex', False, 24),\n",
       " ('HeatingQC_Fa', False, 27),\n",
       " ('HeatingQC_Gd', False, 25),\n",
       " ('HeatingQC_Po', False, 28),\n",
       " ('HeatingQC_TA', False, 26),\n",
       " ('CentralAir_N', False, 56),\n",
       " ('CentralAir_Y', False, 57),\n",
       " ('Electrical_FuseA', True, 1),\n",
       " ('Electrical_FuseF', True, 1),\n",
       " ('Electrical_FuseP', True, 1),\n",
       " ('Electrical_Mix', True, 1),\n",
       " ('Electrical_SBrkr', True, 1),\n",
       " ('KitchenQual_Ex', False, 488),\n",
       " ('KitchenQual_Fa', False, 490),\n",
       " ('KitchenQual_Gd', False, 489),\n",
       " ('KitchenQual_TA', False, 491),\n",
       " ('Functional_Maj1', False, 406),\n",
       " ('Functional_Maj2', False, 400),\n",
       " ('Functional_Min1', False, 401),\n",
       " ('Functional_Min2', False, 405),\n",
       " ('Functional_Mod', False, 403),\n",
       " ('Functional_Sev', False, 402),\n",
       " ('Functional_Typ', False, 404),\n",
       " ('FireplaceQu_Ex', False, 422),\n",
       " ('FireplaceQu_Fa', False, 425),\n",
       " ('FireplaceQu_Gd', False, 424),\n",
       " ('FireplaceQu_Not Alloted', False, 426),\n",
       " ('FireplaceQu_Po', False, 427),\n",
       " ('FireplaceQu_TA', False, 423),\n",
       " ('GarageType_2Types', False, 419),\n",
       " ('GarageType_Attchd', False, 420),\n",
       " ('GarageType_Basment', False, 418),\n",
       " ('GarageType_BuiltIn', False, 421),\n",
       " ('GarageType_CarPort', False, 416),\n",
       " ('GarageType_Detchd', False, 417),\n",
       " ('GarageType_Not Alloted', False, 470),\n",
       " ('GarageFinish_Fin', False, 413),\n",
       " ('GarageFinish_Not Alloted', False, 34),\n",
       " ('GarageFinish_RFn', False, 414),\n",
       " ('GarageFinish_Unf', False, 415),\n",
       " ('GarageQual_Ex', False, 412),\n",
       " ('GarageQual_Fa', False, 409),\n",
       " ('GarageQual_Gd', False, 411),\n",
       " ('GarageQual_Not Alloted', False, 407),\n",
       " ('GarageQual_Po', False, 408),\n",
       " ('GarageQual_TA', False, 410),\n",
       " ('GarageCond_Ex', False, 32),\n",
       " ('GarageCond_Fa', False, 33),\n",
       " ('GarageCond_Gd', False, 29),\n",
       " ('GarageCond_Not Alloted', False, 43),\n",
       " ('GarageCond_Po', False, 31),\n",
       " ('GarageCond_TA', False, 30),\n",
       " ('PavedDrive_N', False, 446),\n",
       " ('PavedDrive_P', False, 448),\n",
       " ('PavedDrive_Y', False, 447),\n",
       " ('SaleType_COD', False, 68),\n",
       " ('SaleType_CWD', False, 62),\n",
       " ('SaleType_Con', False, 63),\n",
       " ('SaleType_ConLD', False, 69),\n",
       " ('SaleType_ConLI', False, 66),\n",
       " ('SaleType_ConLw', False, 70),\n",
       " ('SaleType_New', False, 64),\n",
       " ('SaleType_Oth', False, 65),\n",
       " ('SaleType_WD', False, 67)]"
      ]
     },
     "execution_count": 63,
     "metadata": {},
     "output_type": "execute_result"
    }
   ],
   "source": [
    "# Examining the independent variables\n",
    "list(zip(x.columns,rfe.support_,rfe.ranking_))"
   ]
  },
  {
   "cell_type": "code",
   "execution_count": 214,
   "metadata": {},
   "outputs": [],
   "source": [
    "# Examining the independent variables of interest (200 independent variables got through RFE)\n",
    "col = x.columns[rfe.support_]"
   ]
  },
  {
   "cell_type": "code",
   "execution_count": 232,
   "metadata": {},
   "outputs": [],
   "source": [
    "pd.set_option('display.max_columns', 500)"
   ]
  },
  {
   "cell_type": "code",
   "execution_count": 234,
   "metadata": {},
   "outputs": [
    {
     "data": {
      "text/plain": [
       "['LandContour_Bnk',\n",
       " 'LandContour_HLS',\n",
       " 'LandContour_Low',\n",
       " 'LandContour_Lvl',\n",
       " 'Utilities_AllPub',\n",
       " 'Utilities_NoSeWa',\n",
       " 'LandSlope_Gtl',\n",
       " 'LandSlope_Mod',\n",
       " 'LandSlope_Sev',\n",
       " 'Condition2_Artery',\n",
       " 'Condition2_Feedr',\n",
       " 'Condition2_Norm',\n",
       " 'Condition2_PosA',\n",
       " 'Condition2_PosN',\n",
       " 'Condition2_RRAe',\n",
       " 'Condition2_RRAn',\n",
       " 'Condition2_RRNn',\n",
       " 'RoofMatl_Roll',\n",
       " 'Exterior1st_AsbShng',\n",
       " 'Exterior1st_AsphShn',\n",
       " 'Exterior1st_BrkComm',\n",
       " 'Exterior1st_BrkFace',\n",
       " 'Exterior1st_CBlock',\n",
       " 'Exterior1st_CemntBd',\n",
       " 'Exterior1st_HdBoard',\n",
       " 'Exterior1st_ImStucc',\n",
       " 'Exterior1st_MetalSd',\n",
       " 'Exterior1st_Plywood',\n",
       " 'Exterior1st_Stone',\n",
       " 'Exterior1st_Stucco',\n",
       " 'Exterior1st_VinylSd',\n",
       " 'Exterior1st_Wd Sdng',\n",
       " 'Exterior1st_WdShing',\n",
       " 'Exterior2nd_CBlock',\n",
       " 'MasVnrArea_34.0',\n",
       " 'MasVnrArea_42.0',\n",
       " 'MasVnrArea_66.0',\n",
       " 'MasVnrArea_88.0',\n",
       " 'MasVnrArea_96.0',\n",
       " 'MasVnrArea_99.0',\n",
       " 'MasVnrArea_100.0',\n",
       " 'MasVnrArea_102.0',\n",
       " 'MasVnrArea_119.0',\n",
       " 'MasVnrArea_123.0',\n",
       " 'MasVnrArea_138.0',\n",
       " 'MasVnrArea_165.0',\n",
       " 'MasVnrArea_176.0',\n",
       " 'MasVnrArea_178.0',\n",
       " 'MasVnrArea_184.0',\n",
       " 'MasVnrArea_186.0',\n",
       " 'MasVnrArea_194.0',\n",
       " 'MasVnrArea_200.0',\n",
       " 'MasVnrArea_204.0',\n",
       " 'MasVnrArea_208.0',\n",
       " 'MasVnrArea_215.0',\n",
       " 'MasVnrArea_220.0',\n",
       " 'MasVnrArea_223.0',\n",
       " 'MasVnrArea_234.0',\n",
       " 'MasVnrArea_238.0',\n",
       " 'MasVnrArea_245.0',\n",
       " 'MasVnrArea_246.0',\n",
       " 'MasVnrArea_252.0',\n",
       " 'MasVnrArea_268.0',\n",
       " 'MasVnrArea_270.0',\n",
       " 'MasVnrArea_272.0',\n",
       " 'MasVnrArea_278.0',\n",
       " 'MasVnrArea_280.0',\n",
       " 'MasVnrArea_284.0',\n",
       " 'MasVnrArea_285.0',\n",
       " 'MasVnrArea_288.0',\n",
       " 'MasVnrArea_290.0',\n",
       " 'MasVnrArea_292.0',\n",
       " 'MasVnrArea_293.0',\n",
       " 'MasVnrArea_300.0',\n",
       " 'MasVnrArea_302.0',\n",
       " 'MasVnrArea_304.0',\n",
       " 'MasVnrArea_305.0',\n",
       " 'MasVnrArea_309.0',\n",
       " 'MasVnrArea_312.0',\n",
       " 'MasVnrArea_318.0',\n",
       " 'MasVnrArea_328.0',\n",
       " 'MasVnrArea_336.0',\n",
       " 'MasVnrArea_337.0',\n",
       " 'MasVnrArea_340.0',\n",
       " 'MasVnrArea_342.0',\n",
       " 'MasVnrArea_348.0',\n",
       " 'MasVnrArea_350.0',\n",
       " 'MasVnrArea_351.0',\n",
       " 'MasVnrArea_359.0',\n",
       " 'MasVnrArea_361.0',\n",
       " 'MasVnrArea_362.0',\n",
       " 'MasVnrArea_366.0',\n",
       " 'MasVnrArea_368.0',\n",
       " 'MasVnrArea_370.0',\n",
       " 'MasVnrArea_375.0',\n",
       " 'MasVnrArea_378.0',\n",
       " 'MasVnrArea_380.0',\n",
       " 'MasVnrArea_387.0',\n",
       " 'MasVnrArea_388.0',\n",
       " 'MasVnrArea_391.0',\n",
       " 'MasVnrArea_396.0',\n",
       " 'MasVnrArea_420.0',\n",
       " 'MasVnrArea_423.0',\n",
       " 'MasVnrArea_424.0',\n",
       " 'MasVnrArea_426.0',\n",
       " 'MasVnrArea_436.0',\n",
       " 'MasVnrArea_448.0',\n",
       " 'MasVnrArea_450.0',\n",
       " 'MasVnrArea_464.0',\n",
       " 'MasVnrArea_466.0',\n",
       " 'MasVnrArea_468.0',\n",
       " 'MasVnrArea_473.0',\n",
       " 'MasVnrArea_479.0',\n",
       " 'MasVnrArea_480.0',\n",
       " 'MasVnrArea_506.0',\n",
       " 'MasVnrArea_530.0',\n",
       " 'MasVnrArea_541.0',\n",
       " 'MasVnrArea_562.0',\n",
       " 'MasVnrArea_567.0',\n",
       " 'MasVnrArea_571.0',\n",
       " 'MasVnrArea_573.0',\n",
       " 'MasVnrArea_576.0',\n",
       " 'MasVnrArea_579.0',\n",
       " 'MasVnrArea_594.0',\n",
       " 'MasVnrArea_600.0',\n",
       " 'MasVnrArea_603.0',\n",
       " 'MasVnrArea_630.0',\n",
       " 'MasVnrArea_632.0',\n",
       " 'MasVnrArea_651.0',\n",
       " 'MasVnrArea_660.0',\n",
       " 'MasVnrArea_664.0',\n",
       " 'MasVnrArea_673.0',\n",
       " 'MasVnrArea_705.0',\n",
       " 'MasVnrArea_731.0',\n",
       " 'MasVnrArea_748.0',\n",
       " 'MasVnrArea_760.0',\n",
       " 'MasVnrArea_762.0',\n",
       " 'MasVnrArea_766.0',\n",
       " 'MasVnrArea_772.0',\n",
       " 'MasVnrArea_788.0',\n",
       " 'MasVnrArea_816.0',\n",
       " 'MasVnrArea_860.0',\n",
       " 'MasVnrArea_870.0',\n",
       " 'MasVnrArea_894.0',\n",
       " 'MasVnrArea_921.0',\n",
       " 'MasVnrArea_922.0',\n",
       " 'MasVnrArea_975.0',\n",
       " 'MasVnrArea_1031.0',\n",
       " 'MasVnrArea_1129.0',\n",
       " 'MasVnrArea_1170.0',\n",
       " 'MasVnrArea_1378.0',\n",
       " 'ExterQual_Ex',\n",
       " 'ExterQual_Fa',\n",
       " 'ExterQual_Gd',\n",
       " 'ExterQual_TA',\n",
       " 'BsmtQual_Not Alloted',\n",
       " 'BsmtCond_Fa',\n",
       " 'BsmtCond_Gd',\n",
       " 'BsmtCond_Not Alloted',\n",
       " 'BsmtCond_Po',\n",
       " 'BsmtCond_TA',\n",
       " 'BsmtExposure_Av',\n",
       " 'BsmtExposure_Gd',\n",
       " 'BsmtExposure_Mn',\n",
       " 'BsmtExposure_No',\n",
       " 'BsmtExposure_Not Alloted',\n",
       " 'BsmtFinType2_ALQ',\n",
       " 'BsmtFinType2_BLQ',\n",
       " 'BsmtFinType2_GLQ',\n",
       " 'BsmtFinType2_LwQ',\n",
       " 'BsmtFinType2_Rec',\n",
       " 'BsmtFinType2_Unf',\n",
       " 'HeatingQC_Ex',\n",
       " 'HeatingQC_Fa',\n",
       " 'HeatingQC_Gd',\n",
       " 'HeatingQC_Po',\n",
       " 'HeatingQC_TA',\n",
       " 'CentralAir_N',\n",
       " 'CentralAir_Y',\n",
       " 'Electrical_FuseA',\n",
       " 'Electrical_FuseF',\n",
       " 'Electrical_FuseP',\n",
       " 'Electrical_Mix',\n",
       " 'Electrical_SBrkr',\n",
       " 'GarageFinish_Not Alloted',\n",
       " 'GarageCond_Ex',\n",
       " 'GarageCond_Fa',\n",
       " 'GarageCond_Gd',\n",
       " 'GarageCond_Not Alloted',\n",
       " 'GarageCond_Po',\n",
       " 'GarageCond_TA',\n",
       " 'SaleType_COD',\n",
       " 'SaleType_CWD',\n",
       " 'SaleType_Con',\n",
       " 'SaleType_ConLD',\n",
       " 'SaleType_ConLI',\n",
       " 'SaleType_ConLw',\n",
       " 'SaleType_New',\n",
       " 'SaleType_Oth',\n",
       " 'SaleType_WD']"
      ]
     },
     "execution_count": 234,
     "metadata": {},
     "output_type": "execute_result"
    }
   ],
   "source": [
    "col.tolist()"
   ]
  },
  {
   "cell_type": "code",
   "execution_count": null,
   "metadata": {},
   "outputs": [],
   "source": [
    "#Top columns contributing to affect the SalePrice.\n",
    "'LandContour', 'Utilities', 'LandSlope','Condition2','RoofMatl','Exterior1st','MasVnrArea','ExterQual','BsmtQual','HeatingQC','CentralAir','Electrical','GarageFinish','SaleType'"
   ]
  },
  {
   "cell_type": "code",
   "execution_count": null,
   "metadata": {},
   "outputs": [],
   "source": []
  }
 ],
 "metadata": {
  "kernelspec": {
   "display_name": "Python 3",
   "language": "python",
   "name": "python3"
  },
  "language_info": {
   "codemirror_mode": {
    "name": "ipython",
    "version": 3
   },
   "file_extension": ".py",
   "mimetype": "text/x-python",
   "name": "python",
   "nbconvert_exporter": "python",
   "pygments_lexer": "ipython3",
   "version": "3.7.3"
  }
 },
 "nbformat": 4,
 "nbformat_minor": 2
}
